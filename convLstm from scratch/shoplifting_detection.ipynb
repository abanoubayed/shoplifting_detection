{
  "cells": [
    {
      "cell_type": "markdown",
      "id": "38d4bd72",
      "metadata": {
        "id": "38d4bd72"
      },
      "source": [
        "# Shoplifting Video Classification using ConvLSTM"
      ]
    },
    {
      "cell_type": "code",
      "execution_count": 1,
      "id": "zwRR_9FX1CwG",
      "metadata": {
        "colab": {
          "base_uri": "https://localhost:8080/"
        },
        "id": "zwRR_9FX1CwG",
        "outputId": "4b9cf2c9-0ef7-43d4-cefa-adecd26e30db"
      },
      "outputs": [
        {
          "output_type": "stream",
          "name": "stdout",
          "text": [
            "Mounted at /content/drive\n"
          ]
        }
      ],
      "source": [
        "from google.colab import drive\n",
        "drive.mount('/content/drive')"
      ]
    },
    {
      "cell_type": "code",
      "execution_count": 2,
      "id": "LnQdec3o1O72",
      "metadata": {
        "colab": {
          "base_uri": "https://localhost:8080/"
        },
        "id": "LnQdec3o1O72",
        "outputId": "e6ac8433-9f66-4c62-b2a6-87685dbe4522"
      },
      "outputs": [
        {
          "output_type": "stream",
          "name": "stdout",
          "text": [
            "Archive:  /content/drive/MyDrive/shop dataSet.zip\n",
            "   creating: /content/Shop DataSet/non shop lifters/\n",
            "  inflating: /content/Shop DataSet/non shop lifters/shop_lifter_n_0.mp4  \n",
            "  inflating: /content/Shop DataSet/non shop lifters/shop_lifter_n_0_1.mp4  \n",
            "  inflating: /content/Shop DataSet/non shop lifters/shop_lifter_n_1.mp4  \n",
            "  inflating: /content/Shop DataSet/non shop lifters/shop_lifter_n_1_1.mp4  \n",
            "  inflating: /content/Shop DataSet/non shop lifters/shop_lifter_n_10.mp4  \n",
            "  inflating: /content/Shop DataSet/non shop lifters/shop_lifter_n_10_1.mp4  \n",
            "  inflating: /content/Shop DataSet/non shop lifters/shop_lifter_n_100.mp4  \n",
            "  inflating: /content/Shop DataSet/non shop lifters/shop_lifter_n_100_1.mp4  \n",
            "  inflating: /content/Shop DataSet/non shop lifters/shop_lifter_n_101.mp4  \n",
            "  inflating: /content/Shop DataSet/non shop lifters/shop_lifter_n_101_1.mp4  \n",
            "  inflating: /content/Shop DataSet/non shop lifters/shop_lifter_n_102.mp4  \n",
            "  inflating: /content/Shop DataSet/non shop lifters/shop_lifter_n_102_1.mp4  \n",
            "  inflating: /content/Shop DataSet/non shop lifters/shop_lifter_n_103.mp4  \n",
            "  inflating: /content/Shop DataSet/non shop lifters/shop_lifter_n_103_1.mp4  \n",
            "  inflating: /content/Shop DataSet/non shop lifters/shop_lifter_n_104.mp4  \n",
            "  inflating: /content/Shop DataSet/non shop lifters/shop_lifter_n_104_1.mp4  \n",
            "  inflating: /content/Shop DataSet/non shop lifters/shop_lifter_n_105.mp4  \n",
            "  inflating: /content/Shop DataSet/non shop lifters/shop_lifter_n_105_1.mp4  \n",
            "  inflating: /content/Shop DataSet/non shop lifters/shop_lifter_n_106.mp4  \n",
            "  inflating: /content/Shop DataSet/non shop lifters/shop_lifter_n_106_1.mp4  \n",
            "  inflating: /content/Shop DataSet/non shop lifters/shop_lifter_n_107.mp4  \n",
            "  inflating: /content/Shop DataSet/non shop lifters/shop_lifter_n_107_1.mp4  \n",
            "  inflating: /content/Shop DataSet/non shop lifters/shop_lifter_n_108.mp4  \n",
            "  inflating: /content/Shop DataSet/non shop lifters/shop_lifter_n_108_1.mp4  \n",
            "  inflating: /content/Shop DataSet/non shop lifters/shop_lifter_n_109.mp4  \n",
            "  inflating: /content/Shop DataSet/non shop lifters/shop_lifter_n_109_1.mp4  \n",
            "  inflating: /content/Shop DataSet/non shop lifters/shop_lifter_n_11.mp4  \n",
            "  inflating: /content/Shop DataSet/non shop lifters/shop_lifter_n_11_1.mp4  \n",
            "  inflating: /content/Shop DataSet/non shop lifters/shop_lifter_n_110.mp4  \n",
            "  inflating: /content/Shop DataSet/non shop lifters/shop_lifter_n_110_1.mp4  \n",
            "  inflating: /content/Shop DataSet/non shop lifters/shop_lifter_n_111.mp4  \n",
            "  inflating: /content/Shop DataSet/non shop lifters/shop_lifter_n_111_1.mp4  \n",
            "  inflating: /content/Shop DataSet/non shop lifters/shop_lifter_n_112.mp4  \n",
            "  inflating: /content/Shop DataSet/non shop lifters/shop_lifter_n_112_1.mp4  \n",
            "  inflating: /content/Shop DataSet/non shop lifters/shop_lifter_n_113.mp4  \n",
            "  inflating: /content/Shop DataSet/non shop lifters/shop_lifter_n_113_1.mp4  \n",
            "  inflating: /content/Shop DataSet/non shop lifters/shop_lifter_n_114.mp4  \n",
            "  inflating: /content/Shop DataSet/non shop lifters/shop_lifter_n_114_1.mp4  \n",
            "  inflating: /content/Shop DataSet/non shop lifters/shop_lifter_n_115.mp4  \n",
            "  inflating: /content/Shop DataSet/non shop lifters/shop_lifter_n_115_1.mp4  \n",
            "  inflating: /content/Shop DataSet/non shop lifters/shop_lifter_n_116.mp4  \n",
            "  inflating: /content/Shop DataSet/non shop lifters/shop_lifter_n_116_1.mp4  \n",
            "  inflating: /content/Shop DataSet/non shop lifters/shop_lifter_n_117.mp4  \n",
            "  inflating: /content/Shop DataSet/non shop lifters/shop_lifter_n_117_1.mp4  \n",
            "  inflating: /content/Shop DataSet/non shop lifters/shop_lifter_n_118.mp4  \n",
            "  inflating: /content/Shop DataSet/non shop lifters/shop_lifter_n_118_1.mp4  \n",
            "  inflating: /content/Shop DataSet/non shop lifters/shop_lifter_n_119.mp4  \n",
            "  inflating: /content/Shop DataSet/non shop lifters/shop_lifter_n_119_1.mp4  \n",
            "  inflating: /content/Shop DataSet/non shop lifters/shop_lifter_n_12.mp4  \n",
            "  inflating: /content/Shop DataSet/non shop lifters/shop_lifter_n_12_1.mp4  \n",
            "  inflating: /content/Shop DataSet/non shop lifters/shop_lifter_n_120.mp4  \n",
            "  inflating: /content/Shop DataSet/non shop lifters/shop_lifter_n_120_1.mp4  \n",
            "  inflating: /content/Shop DataSet/non shop lifters/shop_lifter_n_121.mp4  \n",
            "  inflating: /content/Shop DataSet/non shop lifters/shop_lifter_n_121_1.mp4  \n",
            "  inflating: /content/Shop DataSet/non shop lifters/shop_lifter_n_122.mp4  \n",
            "  inflating: /content/Shop DataSet/non shop lifters/shop_lifter_n_122_1.mp4  \n",
            "  inflating: /content/Shop DataSet/non shop lifters/shop_lifter_n_123.mp4  \n",
            "  inflating: /content/Shop DataSet/non shop lifters/shop_lifter_n_123_1.mp4  \n",
            "  inflating: /content/Shop DataSet/non shop lifters/shop_lifter_n_124.mp4  \n",
            "  inflating: /content/Shop DataSet/non shop lifters/shop_lifter_n_124_1.mp4  \n",
            "  inflating: /content/Shop DataSet/non shop lifters/shop_lifter_n_125.mp4  \n",
            "  inflating: /content/Shop DataSet/non shop lifters/shop_lifter_n_125_1.mp4  \n",
            "  inflating: /content/Shop DataSet/non shop lifters/shop_lifter_n_126.mp4  \n",
            "  inflating: /content/Shop DataSet/non shop lifters/shop_lifter_n_126_1.mp4  \n",
            "  inflating: /content/Shop DataSet/non shop lifters/shop_lifter_n_127.mp4  \n",
            "  inflating: /content/Shop DataSet/non shop lifters/shop_lifter_n_127_1.mp4  \n",
            "  inflating: /content/Shop DataSet/non shop lifters/shop_lifter_n_128.mp4  \n",
            "  inflating: /content/Shop DataSet/non shop lifters/shop_lifter_n_128_1.mp4  \n",
            "  inflating: /content/Shop DataSet/non shop lifters/shop_lifter_n_129.mp4  \n",
            "  inflating: /content/Shop DataSet/non shop lifters/shop_lifter_n_129_1.mp4  \n",
            "  inflating: /content/Shop DataSet/non shop lifters/shop_lifter_n_13.mp4  \n",
            "  inflating: /content/Shop DataSet/non shop lifters/shop_lifter_n_13_1.mp4  \n",
            "  inflating: /content/Shop DataSet/non shop lifters/shop_lifter_n_130.mp4  \n",
            "  inflating: /content/Shop DataSet/non shop lifters/shop_lifter_n_130_1.mp4  \n",
            "  inflating: /content/Shop DataSet/non shop lifters/shop_lifter_n_131.mp4  \n",
            "  inflating: /content/Shop DataSet/non shop lifters/shop_lifter_n_131_1.mp4  \n",
            "  inflating: /content/Shop DataSet/non shop lifters/shop_lifter_n_132.mp4  \n",
            "  inflating: /content/Shop DataSet/non shop lifters/shop_lifter_n_132_1.mp4  \n",
            "  inflating: /content/Shop DataSet/non shop lifters/shop_lifter_n_133.mp4  \n",
            "  inflating: /content/Shop DataSet/non shop lifters/shop_lifter_n_133_1.mp4  \n",
            "  inflating: /content/Shop DataSet/non shop lifters/shop_lifter_n_134.mp4  \n",
            "  inflating: /content/Shop DataSet/non shop lifters/shop_lifter_n_134_1.mp4  \n",
            "  inflating: /content/Shop DataSet/non shop lifters/shop_lifter_n_135.mp4  \n",
            "  inflating: /content/Shop DataSet/non shop lifters/shop_lifter_n_135_1.mp4  \n",
            "  inflating: /content/Shop DataSet/non shop lifters/shop_lifter_n_136.mp4  \n",
            "  inflating: /content/Shop DataSet/non shop lifters/shop_lifter_n_136_1.mp4  \n",
            "  inflating: /content/Shop DataSet/non shop lifters/shop_lifter_n_137.mp4  \n",
            "  inflating: /content/Shop DataSet/non shop lifters/shop_lifter_n_137_1.mp4  \n",
            "  inflating: /content/Shop DataSet/non shop lifters/shop_lifter_n_138.mp4  \n",
            "  inflating: /content/Shop DataSet/non shop lifters/shop_lifter_n_138_1.mp4  \n",
            "  inflating: /content/Shop DataSet/non shop lifters/shop_lifter_n_139.mp4  \n",
            "  inflating: /content/Shop DataSet/non shop lifters/shop_lifter_n_139_1.mp4  \n",
            "  inflating: /content/Shop DataSet/non shop lifters/shop_lifter_n_14.mp4  \n",
            "  inflating: /content/Shop DataSet/non shop lifters/shop_lifter_n_14_1.mp4  \n",
            "  inflating: /content/Shop DataSet/non shop lifters/shop_lifter_n_140.mp4  \n",
            "  inflating: /content/Shop DataSet/non shop lifters/shop_lifter_n_140_1.mp4  \n",
            "  inflating: /content/Shop DataSet/non shop lifters/shop_lifter_n_141.mp4  \n",
            "  inflating: /content/Shop DataSet/non shop lifters/shop_lifter_n_141_1.mp4  \n",
            "  inflating: /content/Shop DataSet/non shop lifters/shop_lifter_n_142.mp4  \n",
            "  inflating: /content/Shop DataSet/non shop lifters/shop_lifter_n_142_1.mp4  \n",
            "  inflating: /content/Shop DataSet/non shop lifters/shop_lifter_n_143.mp4  \n",
            "  inflating: /content/Shop DataSet/non shop lifters/shop_lifter_n_143_1.mp4  \n",
            "  inflating: /content/Shop DataSet/non shop lifters/shop_lifter_n_144.mp4  \n",
            "  inflating: /content/Shop DataSet/non shop lifters/shop_lifter_n_144_1.mp4  \n",
            "  inflating: /content/Shop DataSet/non shop lifters/shop_lifter_n_145.mp4  \n",
            "  inflating: /content/Shop DataSet/non shop lifters/shop_lifter_n_145_1.mp4  \n",
            "  inflating: /content/Shop DataSet/non shop lifters/shop_lifter_n_146.mp4  \n",
            "  inflating: /content/Shop DataSet/non shop lifters/shop_lifter_n_146_1.mp4  \n",
            "  inflating: /content/Shop DataSet/non shop lifters/shop_lifter_n_147.mp4  \n",
            "  inflating: /content/Shop DataSet/non shop lifters/shop_lifter_n_147_1.mp4  \n",
            "  inflating: /content/Shop DataSet/non shop lifters/shop_lifter_n_148.mp4  \n",
            "  inflating: /content/Shop DataSet/non shop lifters/shop_lifter_n_148_1.mp4  \n",
            "  inflating: /content/Shop DataSet/non shop lifters/shop_lifter_n_149.mp4  \n",
            "  inflating: /content/Shop DataSet/non shop lifters/shop_lifter_n_149_1.mp4  \n",
            "  inflating: /content/Shop DataSet/non shop lifters/shop_lifter_n_15.mp4  \n",
            "  inflating: /content/Shop DataSet/non shop lifters/shop_lifter_n_15_1.mp4  \n",
            "  inflating: /content/Shop DataSet/non shop lifters/shop_lifter_n_150.mp4  \n",
            "  inflating: /content/Shop DataSet/non shop lifters/shop_lifter_n_150_1.mp4  \n",
            "  inflating: /content/Shop DataSet/non shop lifters/shop_lifter_n_151.mp4  \n",
            "  inflating: /content/Shop DataSet/non shop lifters/shop_lifter_n_151_1.mp4  \n",
            "  inflating: /content/Shop DataSet/non shop lifters/shop_lifter_n_152.mp4  \n",
            "  inflating: /content/Shop DataSet/non shop lifters/shop_lifter_n_152_1.mp4  \n",
            "  inflating: /content/Shop DataSet/non shop lifters/shop_lifter_n_153.mp4  \n",
            "  inflating: /content/Shop DataSet/non shop lifters/shop_lifter_n_153_1.mp4  \n",
            "  inflating: /content/Shop DataSet/non shop lifters/shop_lifter_n_154.mp4  \n",
            "  inflating: /content/Shop DataSet/non shop lifters/shop_lifter_n_154_1.mp4  \n",
            "  inflating: /content/Shop DataSet/non shop lifters/shop_lifter_n_155.mp4  \n",
            "  inflating: /content/Shop DataSet/non shop lifters/shop_lifter_n_155_1.mp4  \n",
            "  inflating: /content/Shop DataSet/non shop lifters/shop_lifter_n_156.mp4  \n",
            "  inflating: /content/Shop DataSet/non shop lifters/shop_lifter_n_156_1.mp4  \n",
            "  inflating: /content/Shop DataSet/non shop lifters/shop_lifter_n_157.mp4  \n",
            "  inflating: /content/Shop DataSet/non shop lifters/shop_lifter_n_157_1.mp4  \n",
            "  inflating: /content/Shop DataSet/non shop lifters/shop_lifter_n_158.mp4  \n",
            "  inflating: /content/Shop DataSet/non shop lifters/shop_lifter_n_158_1.mp4  \n",
            "  inflating: /content/Shop DataSet/non shop lifters/shop_lifter_n_159.mp4  \n",
            "  inflating: /content/Shop DataSet/non shop lifters/shop_lifter_n_159_1.mp4  \n",
            "  inflating: /content/Shop DataSet/non shop lifters/shop_lifter_n_16.mp4  \n",
            "  inflating: /content/Shop DataSet/non shop lifters/shop_lifter_n_16_1.mp4  \n",
            "  inflating: /content/Shop DataSet/non shop lifters/shop_lifter_n_160.mp4  \n",
            "  inflating: /content/Shop DataSet/non shop lifters/shop_lifter_n_160_1.mp4  \n",
            "  inflating: /content/Shop DataSet/non shop lifters/shop_lifter_n_161.mp4  \n",
            "  inflating: /content/Shop DataSet/non shop lifters/shop_lifter_n_161_1.mp4  \n",
            "  inflating: /content/Shop DataSet/non shop lifters/shop_lifter_n_162.mp4  \n",
            "  inflating: /content/Shop DataSet/non shop lifters/shop_lifter_n_162_1.mp4  \n",
            "  inflating: /content/Shop DataSet/non shop lifters/shop_lifter_n_163.mp4  \n",
            "  inflating: /content/Shop DataSet/non shop lifters/shop_lifter_n_163_1.mp4  \n",
            "  inflating: /content/Shop DataSet/non shop lifters/shop_lifter_n_164.mp4  \n",
            "  inflating: /content/Shop DataSet/non shop lifters/shop_lifter_n_164_1.mp4  \n",
            "  inflating: /content/Shop DataSet/non shop lifters/shop_lifter_n_165.mp4  \n",
            "  inflating: /content/Shop DataSet/non shop lifters/shop_lifter_n_165_1.mp4  \n",
            "  inflating: /content/Shop DataSet/non shop lifters/shop_lifter_n_166.mp4  \n",
            "  inflating: /content/Shop DataSet/non shop lifters/shop_lifter_n_166_1.mp4  \n",
            "  inflating: /content/Shop DataSet/non shop lifters/shop_lifter_n_167.mp4  \n",
            "  inflating: /content/Shop DataSet/non shop lifters/shop_lifter_n_167_1.mp4  \n",
            "  inflating: /content/Shop DataSet/non shop lifters/shop_lifter_n_168.mp4  \n",
            "  inflating: /content/Shop DataSet/non shop lifters/shop_lifter_n_168_1.mp4  \n",
            "  inflating: /content/Shop DataSet/non shop lifters/shop_lifter_n_169.mp4  \n",
            "  inflating: /content/Shop DataSet/non shop lifters/shop_lifter_n_169_1.mp4  \n",
            "  inflating: /content/Shop DataSet/non shop lifters/shop_lifter_n_17.mp4  \n",
            "  inflating: /content/Shop DataSet/non shop lifters/shop_lifter_n_17_1.mp4  \n",
            "  inflating: /content/Shop DataSet/non shop lifters/shop_lifter_n_170.mp4  \n",
            "  inflating: /content/Shop DataSet/non shop lifters/shop_lifter_n_170_1.mp4  \n",
            "  inflating: /content/Shop DataSet/non shop lifters/shop_lifter_n_172.mp4  \n",
            "  inflating: /content/Shop DataSet/non shop lifters/shop_lifter_n_172_1.mp4  \n",
            "  inflating: /content/Shop DataSet/non shop lifters/shop_lifter_n_173.mp4  \n",
            "  inflating: /content/Shop DataSet/non shop lifters/shop_lifter_n_173_1.mp4  \n",
            "  inflating: /content/Shop DataSet/non shop lifters/shop_lifter_n_174.mp4  \n",
            "  inflating: /content/Shop DataSet/non shop lifters/shop_lifter_n_174_1.mp4  \n",
            "  inflating: /content/Shop DataSet/non shop lifters/shop_lifter_n_175.mp4  \n",
            "  inflating: /content/Shop DataSet/non shop lifters/shop_lifter_n_175_1.mp4  \n",
            "  inflating: /content/Shop DataSet/non shop lifters/shop_lifter_n_176.mp4  \n",
            "  inflating: /content/Shop DataSet/non shop lifters/shop_lifter_n_176_1.mp4  \n",
            "  inflating: /content/Shop DataSet/non shop lifters/shop_lifter_n_177.mp4  \n",
            "  inflating: /content/Shop DataSet/non shop lifters/shop_lifter_n_177_1.mp4  \n",
            "  inflating: /content/Shop DataSet/non shop lifters/shop_lifter_n_178.mp4  \n",
            "  inflating: /content/Shop DataSet/non shop lifters/shop_lifter_n_178_1.mp4  \n",
            "  inflating: /content/Shop DataSet/non shop lifters/shop_lifter_n_179.mp4  \n",
            "  inflating: /content/Shop DataSet/non shop lifters/shop_lifter_n_179_1.mp4  \n",
            "  inflating: /content/Shop DataSet/non shop lifters/shop_lifter_n_18.mp4  \n",
            "  inflating: /content/Shop DataSet/non shop lifters/shop_lifter_n_18_1.mp4  \n",
            "  inflating: /content/Shop DataSet/non shop lifters/shop_lifter_n_180.mp4  \n",
            "  inflating: /content/Shop DataSet/non shop lifters/shop_lifter_n_180_1.mp4  \n",
            "  inflating: /content/Shop DataSet/non shop lifters/shop_lifter_n_181.mp4  \n",
            "  inflating: /content/Shop DataSet/non shop lifters/shop_lifter_n_181_1.mp4  \n",
            "  inflating: /content/Shop DataSet/non shop lifters/shop_lifter_n_182.mp4  \n",
            "  inflating: /content/Shop DataSet/non shop lifters/shop_lifter_n_182_1.mp4  \n",
            "  inflating: /content/Shop DataSet/non shop lifters/shop_lifter_n_183.mp4  \n",
            "  inflating: /content/Shop DataSet/non shop lifters/shop_lifter_n_183_1.mp4  \n",
            "  inflating: /content/Shop DataSet/non shop lifters/shop_lifter_n_184.mp4  \n",
            "  inflating: /content/Shop DataSet/non shop lifters/shop_lifter_n_184_1.mp4  \n",
            "  inflating: /content/Shop DataSet/non shop lifters/shop_lifter_n_185.mp4  \n",
            "  inflating: /content/Shop DataSet/non shop lifters/shop_lifter_n_185_1.mp4  \n",
            "  inflating: /content/Shop DataSet/non shop lifters/shop_lifter_n_186.mp4  \n",
            "  inflating: /content/Shop DataSet/non shop lifters/shop_lifter_n_186_1.mp4  \n",
            "  inflating: /content/Shop DataSet/non shop lifters/shop_lifter_n_187.mp4  \n",
            "  inflating: /content/Shop DataSet/non shop lifters/shop_lifter_n_187_1.mp4  \n",
            "  inflating: /content/Shop DataSet/non shop lifters/shop_lifter_n_188.mp4  \n",
            "  inflating: /content/Shop DataSet/non shop lifters/shop_lifter_n_188_1.mp4  \n",
            "  inflating: /content/Shop DataSet/non shop lifters/shop_lifter_n_189.mp4  \n",
            "  inflating: /content/Shop DataSet/non shop lifters/shop_lifter_n_189_1.mp4  \n",
            "  inflating: /content/Shop DataSet/non shop lifters/shop_lifter_n_19.mp4  \n",
            "  inflating: /content/Shop DataSet/non shop lifters/shop_lifter_n_19_1.mp4  \n",
            "  inflating: /content/Shop DataSet/non shop lifters/shop_lifter_n_190.mp4  \n",
            "  inflating: /content/Shop DataSet/non shop lifters/shop_lifter_n_190_1.mp4  \n",
            "  inflating: /content/Shop DataSet/non shop lifters/shop_lifter_n_191.mp4  \n",
            "  inflating: /content/Shop DataSet/non shop lifters/shop_lifter_n_191_1.mp4  \n",
            "  inflating: /content/Shop DataSet/non shop lifters/shop_lifter_n_192.mp4  \n",
            "  inflating: /content/Shop DataSet/non shop lifters/shop_lifter_n_192_1.mp4  \n",
            "  inflating: /content/Shop DataSet/non shop lifters/shop_lifter_n_193.mp4  \n",
            "  inflating: /content/Shop DataSet/non shop lifters/shop_lifter_n_193_1.mp4  \n",
            "  inflating: /content/Shop DataSet/non shop lifters/shop_lifter_n_194.mp4  \n",
            "  inflating: /content/Shop DataSet/non shop lifters/shop_lifter_n_194_1.mp4  \n",
            "  inflating: /content/Shop DataSet/non shop lifters/shop_lifter_n_195.mp4  \n",
            "  inflating: /content/Shop DataSet/non shop lifters/shop_lifter_n_195_1.mp4  \n",
            "  inflating: /content/Shop DataSet/non shop lifters/shop_lifter_n_196.mp4  \n",
            "  inflating: /content/Shop DataSet/non shop lifters/shop_lifter_n_196_1.mp4  \n",
            "  inflating: /content/Shop DataSet/non shop lifters/shop_lifter_n_197.mp4  \n",
            "  inflating: /content/Shop DataSet/non shop lifters/shop_lifter_n_197_1.mp4  \n",
            "  inflating: /content/Shop DataSet/non shop lifters/shop_lifter_n_198.mp4  \n",
            "  inflating: /content/Shop DataSet/non shop lifters/shop_lifter_n_198_1.mp4  \n",
            "  inflating: /content/Shop DataSet/non shop lifters/shop_lifter_n_199.mp4  \n",
            "  inflating: /content/Shop DataSet/non shop lifters/shop_lifter_n_199_1.mp4  \n",
            "  inflating: /content/Shop DataSet/non shop lifters/shop_lifter_n_2.mp4  \n",
            "  inflating: /content/Shop DataSet/non shop lifters/shop_lifter_n_2_1.mp4  \n",
            "  inflating: /content/Shop DataSet/non shop lifters/shop_lifter_n_20.mp4  \n",
            "  inflating: /content/Shop DataSet/non shop lifters/shop_lifter_n_20_1.mp4  \n",
            "  inflating: /content/Shop DataSet/non shop lifters/shop_lifter_n_200.mp4  \n",
            "  inflating: /content/Shop DataSet/non shop lifters/shop_lifter_n_200_1.mp4  \n",
            "  inflating: /content/Shop DataSet/non shop lifters/shop_lifter_n_201.mp4  \n",
            "  inflating: /content/Shop DataSet/non shop lifters/shop_lifter_n_201_1.mp4  \n",
            "  inflating: /content/Shop DataSet/non shop lifters/shop_lifter_n_202.mp4  \n",
            "  inflating: /content/Shop DataSet/non shop lifters/shop_lifter_n_202_1.mp4  \n",
            "  inflating: /content/Shop DataSet/non shop lifters/shop_lifter_n_203.mp4  \n",
            "  inflating: /content/Shop DataSet/non shop lifters/shop_lifter_n_203_1.mp4  \n",
            "  inflating: /content/Shop DataSet/non shop lifters/shop_lifter_n_204.mp4  \n",
            "  inflating: /content/Shop DataSet/non shop lifters/shop_lifter_n_204_1.mp4  \n",
            "  inflating: /content/Shop DataSet/non shop lifters/shop_lifter_n_205.mp4  \n",
            "  inflating: /content/Shop DataSet/non shop lifters/shop_lifter_n_205_1.mp4  \n",
            "  inflating: /content/Shop DataSet/non shop lifters/shop_lifter_n_206.mp4  \n",
            "  inflating: /content/Shop DataSet/non shop lifters/shop_lifter_n_206_1.mp4  \n",
            "  inflating: /content/Shop DataSet/non shop lifters/shop_lifter_n_207.mp4  \n",
            "  inflating: /content/Shop DataSet/non shop lifters/shop_lifter_n_207_1.mp4  \n",
            "  inflating: /content/Shop DataSet/non shop lifters/shop_lifter_n_208.mp4  \n",
            "  inflating: /content/Shop DataSet/non shop lifters/shop_lifter_n_208_1.mp4  \n",
            "  inflating: /content/Shop DataSet/non shop lifters/shop_lifter_n_209.mp4  \n",
            "  inflating: /content/Shop DataSet/non shop lifters/shop_lifter_n_209_1.mp4  \n",
            "  inflating: /content/Shop DataSet/non shop lifters/shop_lifter_n_21.mp4  \n",
            "  inflating: /content/Shop DataSet/non shop lifters/shop_lifter_n_21_1.mp4  \n",
            "  inflating: /content/Shop DataSet/non shop lifters/shop_lifter_n_210.mp4  \n",
            "  inflating: /content/Shop DataSet/non shop lifters/shop_lifter_n_210_1.mp4  \n",
            "  inflating: /content/Shop DataSet/non shop lifters/shop_lifter_n_211.mp4  \n",
            "  inflating: /content/Shop DataSet/non shop lifters/shop_lifter_n_211_1.mp4  \n",
            "  inflating: /content/Shop DataSet/non shop lifters/shop_lifter_n_212.mp4  \n",
            "  inflating: /content/Shop DataSet/non shop lifters/shop_lifter_n_212_1.mp4  \n",
            "  inflating: /content/Shop DataSet/non shop lifters/shop_lifter_n_213.mp4  \n",
            "  inflating: /content/Shop DataSet/non shop lifters/shop_lifter_n_213_1.mp4  \n",
            "  inflating: /content/Shop DataSet/non shop lifters/shop_lifter_n_214.mp4  \n",
            "  inflating: /content/Shop DataSet/non shop lifters/shop_lifter_n_214_1.mp4  \n",
            "  inflating: /content/Shop DataSet/non shop lifters/shop_lifter_n_215.mp4  \n",
            "  inflating: /content/Shop DataSet/non shop lifters/shop_lifter_n_215_1.mp4  \n",
            "  inflating: /content/Shop DataSet/non shop lifters/shop_lifter_n_216.mp4  \n",
            "  inflating: /content/Shop DataSet/non shop lifters/shop_lifter_n_216_1.mp4  \n",
            "  inflating: /content/Shop DataSet/non shop lifters/shop_lifter_n_217.mp4  \n",
            "  inflating: /content/Shop DataSet/non shop lifters/shop_lifter_n_217_1.mp4  \n",
            "  inflating: /content/Shop DataSet/non shop lifters/shop_lifter_n_218.mp4  \n",
            "  inflating: /content/Shop DataSet/non shop lifters/shop_lifter_n_218_1.mp4  \n",
            "  inflating: /content/Shop DataSet/non shop lifters/shop_lifter_n_22.mp4  \n",
            "  inflating: /content/Shop DataSet/non shop lifters/shop_lifter_n_22_1.mp4  \n",
            "  inflating: /content/Shop DataSet/non shop lifters/shop_lifter_n_23.mp4  \n",
            "  inflating: /content/Shop DataSet/non shop lifters/shop_lifter_n_23_1.mp4  \n",
            "  inflating: /content/Shop DataSet/non shop lifters/shop_lifter_n_24.mp4  \n",
            "  inflating: /content/Shop DataSet/non shop lifters/shop_lifter_n_24_1.mp4  \n",
            "  inflating: /content/Shop DataSet/non shop lifters/shop_lifter_n_25.mp4  \n",
            "  inflating: /content/Shop DataSet/non shop lifters/shop_lifter_n_25_1.mp4  \n",
            "  inflating: /content/Shop DataSet/non shop lifters/shop_lifter_n_26.mp4  \n",
            "  inflating: /content/Shop DataSet/non shop lifters/shop_lifter_n_26_1.mp4  \n",
            "  inflating: /content/Shop DataSet/non shop lifters/shop_lifter_n_27.mp4  \n",
            "  inflating: /content/Shop DataSet/non shop lifters/shop_lifter_n_27_1.mp4  \n",
            "  inflating: /content/Shop DataSet/non shop lifters/shop_lifter_n_28.mp4  \n",
            "  inflating: /content/Shop DataSet/non shop lifters/shop_lifter_n_28_1.mp4  \n",
            "  inflating: /content/Shop DataSet/non shop lifters/shop_lifter_n_29.mp4  \n",
            "  inflating: /content/Shop DataSet/non shop lifters/shop_lifter_n_29_1.mp4  \n",
            "  inflating: /content/Shop DataSet/non shop lifters/shop_lifter_n_3.mp4  \n",
            "  inflating: /content/Shop DataSet/non shop lifters/shop_lifter_n_3_1.mp4  \n",
            "  inflating: /content/Shop DataSet/non shop lifters/shop_lifter_n_30.mp4  \n",
            "  inflating: /content/Shop DataSet/non shop lifters/shop_lifter_n_30_1.mp4  \n",
            "  inflating: /content/Shop DataSet/non shop lifters/shop_lifter_n_31.mp4  \n",
            "  inflating: /content/Shop DataSet/non shop lifters/shop_lifter_n_31_1.mp4  \n",
            "  inflating: /content/Shop DataSet/non shop lifters/shop_lifter_n_32.mp4  \n",
            "  inflating: /content/Shop DataSet/non shop lifters/shop_lifter_n_32_1.mp4  \n",
            "  inflating: /content/Shop DataSet/non shop lifters/shop_lifter_n_33.mp4  \n",
            "  inflating: /content/Shop DataSet/non shop lifters/shop_lifter_n_33_1.mp4  \n",
            "  inflating: /content/Shop DataSet/non shop lifters/shop_lifter_n_34.mp4  \n",
            "  inflating: /content/Shop DataSet/non shop lifters/shop_lifter_n_34_1.mp4  \n",
            "  inflating: /content/Shop DataSet/non shop lifters/shop_lifter_n_35.mp4  \n",
            "  inflating: /content/Shop DataSet/non shop lifters/shop_lifter_n_35_1.mp4  \n",
            "  inflating: /content/Shop DataSet/non shop lifters/shop_lifter_n_36.mp4  \n",
            "  inflating: /content/Shop DataSet/non shop lifters/shop_lifter_n_36_1.mp4  \n",
            "  inflating: /content/Shop DataSet/non shop lifters/shop_lifter_n_37.mp4  \n",
            "  inflating: /content/Shop DataSet/non shop lifters/shop_lifter_n_37_1.mp4  \n",
            "  inflating: /content/Shop DataSet/non shop lifters/shop_lifter_n_38.mp4  \n",
            "  inflating: /content/Shop DataSet/non shop lifters/shop_lifter_n_38_1.mp4  \n",
            "  inflating: /content/Shop DataSet/non shop lifters/shop_lifter_n_39.mp4  \n",
            "  inflating: /content/Shop DataSet/non shop lifters/shop_lifter_n_39_1.mp4  \n",
            "  inflating: /content/Shop DataSet/non shop lifters/shop_lifter_n_4.mp4  \n",
            "  inflating: /content/Shop DataSet/non shop lifters/shop_lifter_n_4_1.mp4  \n",
            "  inflating: /content/Shop DataSet/non shop lifters/shop_lifter_n_40.mp4  \n",
            "  inflating: /content/Shop DataSet/non shop lifters/shop_lifter_n_40_1.mp4  \n",
            "  inflating: /content/Shop DataSet/non shop lifters/shop_lifter_n_41.mp4  \n",
            "  inflating: /content/Shop DataSet/non shop lifters/shop_lifter_n_41_1.mp4  \n",
            "  inflating: /content/Shop DataSet/non shop lifters/shop_lifter_n_42.mp4  \n",
            "  inflating: /content/Shop DataSet/non shop lifters/shop_lifter_n_42_1.mp4  \n",
            "  inflating: /content/Shop DataSet/non shop lifters/shop_lifter_n_43.mp4  \n",
            "  inflating: /content/Shop DataSet/non shop lifters/shop_lifter_n_43_1.mp4  \n",
            "  inflating: /content/Shop DataSet/non shop lifters/shop_lifter_n_44.mp4  \n",
            "  inflating: /content/Shop DataSet/non shop lifters/shop_lifter_n_44_1.mp4  \n",
            "  inflating: /content/Shop DataSet/non shop lifters/shop_lifter_n_45.mp4  \n",
            "  inflating: /content/Shop DataSet/non shop lifters/shop_lifter_n_45_1.mp4  \n",
            "  inflating: /content/Shop DataSet/non shop lifters/shop_lifter_n_46.mp4  \n",
            "  inflating: /content/Shop DataSet/non shop lifters/shop_lifter_n_46_1.mp4  \n",
            "  inflating: /content/Shop DataSet/non shop lifters/shop_lifter_n_47.mp4  \n",
            "  inflating: /content/Shop DataSet/non shop lifters/shop_lifter_n_47_1.mp4  \n",
            "  inflating: /content/Shop DataSet/non shop lifters/shop_lifter_n_48.mp4  \n",
            "  inflating: /content/Shop DataSet/non shop lifters/shop_lifter_n_48_1.mp4  \n",
            "  inflating: /content/Shop DataSet/non shop lifters/shop_lifter_n_49.mp4  \n",
            "  inflating: /content/Shop DataSet/non shop lifters/shop_lifter_n_49_1.mp4  \n",
            "  inflating: /content/Shop DataSet/non shop lifters/shop_lifter_n_5.mp4  \n",
            "  inflating: /content/Shop DataSet/non shop lifters/shop_lifter_n_5_1.mp4  \n",
            "  inflating: /content/Shop DataSet/non shop lifters/shop_lifter_n_50.mp4  \n",
            "  inflating: /content/Shop DataSet/non shop lifters/shop_lifter_n_50_1.mp4  \n",
            "  inflating: /content/Shop DataSet/non shop lifters/shop_lifter_n_51.mp4  \n",
            "  inflating: /content/Shop DataSet/non shop lifters/shop_lifter_n_51_1.mp4  \n",
            "  inflating: /content/Shop DataSet/non shop lifters/shop_lifter_n_52.mp4  \n",
            "  inflating: /content/Shop DataSet/non shop lifters/shop_lifter_n_52_1.mp4  \n",
            "  inflating: /content/Shop DataSet/non shop lifters/shop_lifter_n_53.mp4  \n",
            "  inflating: /content/Shop DataSet/non shop lifters/shop_lifter_n_53_1.mp4  \n",
            "  inflating: /content/Shop DataSet/non shop lifters/shop_lifter_n_54.mp4  \n",
            "  inflating: /content/Shop DataSet/non shop lifters/shop_lifter_n_54_1.mp4  \n",
            "  inflating: /content/Shop DataSet/non shop lifters/shop_lifter_n_55.mp4  \n",
            "  inflating: /content/Shop DataSet/non shop lifters/shop_lifter_n_55_1.mp4  \n",
            "  inflating: /content/Shop DataSet/non shop lifters/shop_lifter_n_56.mp4  \n",
            "  inflating: /content/Shop DataSet/non shop lifters/shop_lifter_n_56_1.mp4  \n",
            "  inflating: /content/Shop DataSet/non shop lifters/shop_lifter_n_57.mp4  \n",
            "  inflating: /content/Shop DataSet/non shop lifters/shop_lifter_n_57_1.mp4  \n",
            "  inflating: /content/Shop DataSet/non shop lifters/shop_lifter_n_58.mp4  \n",
            "  inflating: /content/Shop DataSet/non shop lifters/shop_lifter_n_58_1.mp4  \n",
            "  inflating: /content/Shop DataSet/non shop lifters/shop_lifter_n_59.mp4  \n",
            "  inflating: /content/Shop DataSet/non shop lifters/shop_lifter_n_59_1.mp4  \n",
            "  inflating: /content/Shop DataSet/non shop lifters/shop_lifter_n_6.mp4  \n",
            "  inflating: /content/Shop DataSet/non shop lifters/shop_lifter_n_6_1.mp4  \n",
            "  inflating: /content/Shop DataSet/non shop lifters/shop_lifter_n_60.mp4  \n",
            "  inflating: /content/Shop DataSet/non shop lifters/shop_lifter_n_60_1.mp4  \n",
            "  inflating: /content/Shop DataSet/non shop lifters/shop_lifter_n_61.mp4  \n",
            "  inflating: /content/Shop DataSet/non shop lifters/shop_lifter_n_61_1.mp4  \n",
            "  inflating: /content/Shop DataSet/non shop lifters/shop_lifter_n_62.mp4  \n",
            "  inflating: /content/Shop DataSet/non shop lifters/shop_lifter_n_62_1.mp4  \n",
            "  inflating: /content/Shop DataSet/non shop lifters/shop_lifter_n_63.mp4  \n",
            "  inflating: /content/Shop DataSet/non shop lifters/shop_lifter_n_63_1.mp4  \n",
            "  inflating: /content/Shop DataSet/non shop lifters/shop_lifter_n_64.mp4  \n",
            "  inflating: /content/Shop DataSet/non shop lifters/shop_lifter_n_64_1.mp4  \n",
            "  inflating: /content/Shop DataSet/non shop lifters/shop_lifter_n_65.mp4  \n",
            "  inflating: /content/Shop DataSet/non shop lifters/shop_lifter_n_65_1.mp4  \n",
            "  inflating: /content/Shop DataSet/non shop lifters/shop_lifter_n_66.mp4  \n",
            "  inflating: /content/Shop DataSet/non shop lifters/shop_lifter_n_66_1.mp4  \n",
            "  inflating: /content/Shop DataSet/non shop lifters/shop_lifter_n_67.mp4  \n",
            "  inflating: /content/Shop DataSet/non shop lifters/shop_lifter_n_67_1.mp4  \n",
            "  inflating: /content/Shop DataSet/non shop lifters/shop_lifter_n_68.mp4  \n",
            "  inflating: /content/Shop DataSet/non shop lifters/shop_lifter_n_68_1.mp4  \n",
            "  inflating: /content/Shop DataSet/non shop lifters/shop_lifter_n_69.mp4  \n",
            "  inflating: /content/Shop DataSet/non shop lifters/shop_lifter_n_69_1.mp4  \n",
            "  inflating: /content/Shop DataSet/non shop lifters/shop_lifter_n_7.mp4  \n",
            "  inflating: /content/Shop DataSet/non shop lifters/shop_lifter_n_7_1.mp4  \n",
            "  inflating: /content/Shop DataSet/non shop lifters/shop_lifter_n_70.mp4  \n",
            "  inflating: /content/Shop DataSet/non shop lifters/shop_lifter_n_70_1.mp4  \n",
            "  inflating: /content/Shop DataSet/non shop lifters/shop_lifter_n_71.mp4  \n",
            "  inflating: /content/Shop DataSet/non shop lifters/shop_lifter_n_71_1.mp4  \n",
            "  inflating: /content/Shop DataSet/non shop lifters/shop_lifter_n_72.mp4  \n",
            "  inflating: /content/Shop DataSet/non shop lifters/shop_lifter_n_72_1.mp4  \n",
            "  inflating: /content/Shop DataSet/non shop lifters/shop_lifter_n_73.mp4  \n",
            "  inflating: /content/Shop DataSet/non shop lifters/shop_lifter_n_73_1.mp4  \n",
            "  inflating: /content/Shop DataSet/non shop lifters/shop_lifter_n_74.mp4  \n",
            "  inflating: /content/Shop DataSet/non shop lifters/shop_lifter_n_74_1.mp4  \n",
            "  inflating: /content/Shop DataSet/non shop lifters/shop_lifter_n_75.mp4  \n",
            "  inflating: /content/Shop DataSet/non shop lifters/shop_lifter_n_75_1.mp4  \n",
            "  inflating: /content/Shop DataSet/non shop lifters/shop_lifter_n_76.mp4  \n",
            "  inflating: /content/Shop DataSet/non shop lifters/shop_lifter_n_76_1.mp4  \n",
            "  inflating: /content/Shop DataSet/non shop lifters/shop_lifter_n_77.mp4  \n",
            "  inflating: /content/Shop DataSet/non shop lifters/shop_lifter_n_77_1.mp4  \n",
            "  inflating: /content/Shop DataSet/non shop lifters/shop_lifter_n_78.mp4  \n",
            "  inflating: /content/Shop DataSet/non shop lifters/shop_lifter_n_78_1.mp4  \n",
            "  inflating: /content/Shop DataSet/non shop lifters/shop_lifter_n_79.mp4  \n",
            "  inflating: /content/Shop DataSet/non shop lifters/shop_lifter_n_79_1.mp4  \n",
            "  inflating: /content/Shop DataSet/non shop lifters/shop_lifter_n_8.mp4  \n",
            "  inflating: /content/Shop DataSet/non shop lifters/shop_lifter_n_8_1.mp4  \n",
            "  inflating: /content/Shop DataSet/non shop lifters/shop_lifter_n_80.mp4  \n",
            "  inflating: /content/Shop DataSet/non shop lifters/shop_lifter_n_80_1.mp4  \n",
            "  inflating: /content/Shop DataSet/non shop lifters/shop_lifter_n_81.mp4  \n",
            "  inflating: /content/Shop DataSet/non shop lifters/shop_lifter_n_81_1.mp4  \n",
            "  inflating: /content/Shop DataSet/non shop lifters/shop_lifter_n_82.mp4  \n",
            "  inflating: /content/Shop DataSet/non shop lifters/shop_lifter_n_82_1.mp4  \n",
            "  inflating: /content/Shop DataSet/non shop lifters/shop_lifter_n_83.mp4  \n",
            "  inflating: /content/Shop DataSet/non shop lifters/shop_lifter_n_83_1.mp4  \n",
            "  inflating: /content/Shop DataSet/non shop lifters/shop_lifter_n_84.mp4  \n",
            "  inflating: /content/Shop DataSet/non shop lifters/shop_lifter_n_84_1.mp4  \n",
            "  inflating: /content/Shop DataSet/non shop lifters/shop_lifter_n_85.mp4  \n",
            "  inflating: /content/Shop DataSet/non shop lifters/shop_lifter_n_85_1.mp4  \n",
            "  inflating: /content/Shop DataSet/non shop lifters/shop_lifter_n_86.mp4  \n",
            "  inflating: /content/Shop DataSet/non shop lifters/shop_lifter_n_86_1.mp4  \n",
            "  inflating: /content/Shop DataSet/non shop lifters/shop_lifter_n_87.mp4  \n",
            "  inflating: /content/Shop DataSet/non shop lifters/shop_lifter_n_87_1.mp4  \n",
            "  inflating: /content/Shop DataSet/non shop lifters/shop_lifter_n_88.mp4  \n",
            "  inflating: /content/Shop DataSet/non shop lifters/shop_lifter_n_88_1.mp4  \n",
            "  inflating: /content/Shop DataSet/non shop lifters/shop_lifter_n_89.mp4  \n",
            "  inflating: /content/Shop DataSet/non shop lifters/shop_lifter_n_89_1.mp4  \n",
            "  inflating: /content/Shop DataSet/non shop lifters/shop_lifter_n_9.mp4  \n",
            "  inflating: /content/Shop DataSet/non shop lifters/shop_lifter_n_9_1.mp4  \n",
            "  inflating: /content/Shop DataSet/non shop lifters/shop_lifter_n_90.mp4  \n",
            "  inflating: /content/Shop DataSet/non shop lifters/shop_lifter_n_90_1.mp4  \n",
            "  inflating: /content/Shop DataSet/non shop lifters/shop_lifter_n_91.mp4  \n",
            "  inflating: /content/Shop DataSet/non shop lifters/shop_lifter_n_91_1.mp4  \n",
            "  inflating: /content/Shop DataSet/non shop lifters/shop_lifter_n_92.mp4  \n",
            "  inflating: /content/Shop DataSet/non shop lifters/shop_lifter_n_92_1.mp4  \n",
            "  inflating: /content/Shop DataSet/non shop lifters/shop_lifter_n_93.mp4  \n",
            "  inflating: /content/Shop DataSet/non shop lifters/shop_lifter_n_93_1.mp4  \n",
            "  inflating: /content/Shop DataSet/non shop lifters/shop_lifter_n_94.mp4  \n",
            "  inflating: /content/Shop DataSet/non shop lifters/shop_lifter_n_94_1.mp4  \n",
            "  inflating: /content/Shop DataSet/non shop lifters/shop_lifter_n_95.mp4  \n",
            "  inflating: /content/Shop DataSet/non shop lifters/shop_lifter_n_95_1.mp4  \n",
            "  inflating: /content/Shop DataSet/non shop lifters/shop_lifter_n_96.mp4  \n",
            "  inflating: /content/Shop DataSet/non shop lifters/shop_lifter_n_96_1.mp4  \n",
            "  inflating: /content/Shop DataSet/non shop lifters/shop_lifter_n_97.mp4  \n",
            "  inflating: /content/Shop DataSet/non shop lifters/shop_lifter_n_97_1.mp4  \n",
            "  inflating: /content/Shop DataSet/non shop lifters/shop_lifter_n_98.mp4  \n",
            "  inflating: /content/Shop DataSet/non shop lifters/shop_lifter_n_98_1.mp4  \n",
            "  inflating: /content/Shop DataSet/non shop lifters/shop_lifter_n_99.mp4  \n",
            "  inflating: /content/Shop DataSet/non shop lifters/shop_lifter_n_99_1.mp4  \n",
            "  inflating: /content/Shop DataSet/non shop lifters/videossssstttsss_48.mp4  \n",
            "  inflating: /content/Shop DataSet/non shop lifters/videossssstttsss_49.mp4  \n",
            "  inflating: /content/Shop DataSet/non shop lifters/videossssstttsss_50.mp4  \n",
            "  inflating: /content/Shop DataSet/non shop lifters/videossssstttsss_51.mp4  \n",
            "  inflating: /content/Shop DataSet/non shop lifters/videossssstttsss_52.mp4  \n",
            "  inflating: /content/Shop DataSet/non shop lifters/videossssstttsss_53.mp4  \n",
            "  inflating: /content/Shop DataSet/non shop lifters/videossssstttsss_54.mp4  \n",
            "  inflating: /content/Shop DataSet/non shop lifters/videossssstttsss_55.mp4  \n",
            "  inflating: /content/Shop DataSet/non shop lifters/videossssstttsss_56.mp4  \n",
            "  inflating: /content/Shop DataSet/non shop lifters/videppppsss_0.mp4  \n",
            "  inflating: /content/Shop DataSet/non shop lifters/videppppsss_1.mp4  \n",
            "  inflating: /content/Shop DataSet/non shop lifters/videppppsss_10.mp4  \n",
            "  inflating: /content/Shop DataSet/non shop lifters/videppppsss_11.mp4  \n",
            "  inflating: /content/Shop DataSet/non shop lifters/videppppsss_12.mp4  \n",
            "  inflating: /content/Shop DataSet/non shop lifters/videppppsss_13.mp4  \n",
            "  inflating: /content/Shop DataSet/non shop lifters/videppppsss_14.mp4  \n",
            "  inflating: /content/Shop DataSet/non shop lifters/videppppsss_15.mp4  \n",
            "  inflating: /content/Shop DataSet/non shop lifters/videppppsss_16.mp4  \n",
            "  inflating: /content/Shop DataSet/non shop lifters/videppppsss_17.mp4  \n",
            "  inflating: /content/Shop DataSet/non shop lifters/videppppsss_18.mp4  \n",
            "  inflating: /content/Shop DataSet/non shop lifters/videppppsss_19.mp4  \n",
            "  inflating: /content/Shop DataSet/non shop lifters/videppppsss_2.mp4  \n",
            "  inflating: /content/Shop DataSet/non shop lifters/videppppsss_20.mp4  \n",
            "  inflating: /content/Shop DataSet/non shop lifters/videppppsss_21.mp4  \n",
            "  inflating: /content/Shop DataSet/non shop lifters/videppppsss_22.mp4  \n",
            "  inflating: /content/Shop DataSet/non shop lifters/videppppsss_23.mp4  \n",
            "  inflating: /content/Shop DataSet/non shop lifters/videppppsss_24.mp4  \n",
            "  inflating: /content/Shop DataSet/non shop lifters/videppppsss_25.mp4  \n",
            "  inflating: /content/Shop DataSet/non shop lifters/videppppsss_26.mp4  \n",
            "  inflating: /content/Shop DataSet/non shop lifters/videppppsss_27.mp4  \n",
            "  inflating: /content/Shop DataSet/non shop lifters/videppppsss_28.mp4  \n",
            "  inflating: /content/Shop DataSet/non shop lifters/videppppsss_29.mp4  \n",
            "  inflating: /content/Shop DataSet/non shop lifters/videppppsss_3.mp4  \n",
            "  inflating: /content/Shop DataSet/non shop lifters/videppppsss_30.mp4  \n",
            "  inflating: /content/Shop DataSet/non shop lifters/videppppsss_31.mp4  \n",
            "  inflating: /content/Shop DataSet/non shop lifters/videppppsss_32.mp4  \n",
            "  inflating: /content/Shop DataSet/non shop lifters/videppppsss_33.mp4  \n",
            "  inflating: /content/Shop DataSet/non shop lifters/videppppsss_34.mp4  \n",
            "  inflating: /content/Shop DataSet/non shop lifters/videppppsss_35.mp4  \n",
            "  inflating: /content/Shop DataSet/non shop lifters/videppppsss_36.mp4  \n",
            "  inflating: /content/Shop DataSet/non shop lifters/videppppsss_37.mp4  \n",
            "  inflating: /content/Shop DataSet/non shop lifters/videppppsss_38.mp4  \n",
            "  inflating: /content/Shop DataSet/non shop lifters/videppppsss_39.mp4  \n",
            "  inflating: /content/Shop DataSet/non shop lifters/videppppsss_4.mp4  \n",
            "  inflating: /content/Shop DataSet/non shop lifters/videppppsss_40.mp4  \n",
            "  inflating: /content/Shop DataSet/non shop lifters/videppppsss_41.mp4  \n",
            "  inflating: /content/Shop DataSet/non shop lifters/videppppsss_42.mp4  \n",
            "  inflating: /content/Shop DataSet/non shop lifters/videppppsss_43.mp4  \n",
            "  inflating: /content/Shop DataSet/non shop lifters/videppppsss_44.mp4  \n",
            "  inflating: /content/Shop DataSet/non shop lifters/videppppsss_45.mp4  \n",
            "  inflating: /content/Shop DataSet/non shop lifters/videppppsss_46.mp4  \n",
            "  inflating: /content/Shop DataSet/non shop lifters/videppppsss_47.mp4  \n",
            "  inflating: /content/Shop DataSet/non shop lifters/videppppsss_48.mp4  \n",
            "  inflating: /content/Shop DataSet/non shop lifters/videppppsss_49.mp4  \n",
            "  inflating: /content/Shop DataSet/non shop lifters/videppppsss_5.mp4  \n",
            "  inflating: /content/Shop DataSet/non shop lifters/videppppsss_50.mp4  \n",
            "  inflating: /content/Shop DataSet/non shop lifters/videppppsss_51.mp4  \n",
            "  inflating: /content/Shop DataSet/non shop lifters/videppppsss_52.mp4  \n",
            "  inflating: /content/Shop DataSet/non shop lifters/videppppsss_53.mp4  \n",
            "  inflating: /content/Shop DataSet/non shop lifters/videppppsss_54.mp4  \n",
            "  inflating: /content/Shop DataSet/non shop lifters/videppppsss_55.mp4  \n",
            "  inflating: /content/Shop DataSet/non shop lifters/videppppsss_56.mp4  \n",
            "  inflating: /content/Shop DataSet/non shop lifters/videppppsss_57.mp4  \n",
            "  inflating: /content/Shop DataSet/non shop lifters/videppppsss_58.mp4  \n",
            "  inflating: /content/Shop DataSet/non shop lifters/videppppsss_59.mp4  \n",
            "  inflating: /content/Shop DataSet/non shop lifters/videppppsss_6.mp4  \n",
            "  inflating: /content/Shop DataSet/non shop lifters/videppppsss_60.mp4  \n",
            "  inflating: /content/Shop DataSet/non shop lifters/videppppsss_61.mp4  \n",
            "  inflating: /content/Shop DataSet/non shop lifters/videppppsss_62.mp4  \n",
            "  inflating: /content/Shop DataSet/non shop lifters/videppppsss_63.mp4  \n",
            "  inflating: /content/Shop DataSet/non shop lifters/videppppsss_64.mp4  \n",
            "  inflating: /content/Shop DataSet/non shop lifters/videppppsss_65.mp4  \n",
            "  inflating: /content/Shop DataSet/non shop lifters/videppppsss_66.mp4  \n",
            "  inflating: /content/Shop DataSet/non shop lifters/videppppsss_67.mp4  \n",
            "  inflating: /content/Shop DataSet/non shop lifters/videppppsss_68.mp4  \n",
            "  inflating: /content/Shop DataSet/non shop lifters/videppppsss_69.mp4  \n",
            "  inflating: /content/Shop DataSet/non shop lifters/videppppsss_7.mp4  \n",
            "  inflating: /content/Shop DataSet/non shop lifters/videppppsss_70.mp4  \n",
            "  inflating: /content/Shop DataSet/non shop lifters/videppppsss_71.mp4  \n",
            "  inflating: /content/Shop DataSet/non shop lifters/videppppsss_72.mp4  \n",
            "  inflating: /content/Shop DataSet/non shop lifters/videppppsss_73.mp4  \n",
            "  inflating: /content/Shop DataSet/non shop lifters/videppppsss_74.mp4  \n",
            "  inflating: /content/Shop DataSet/non shop lifters/videppppsss_75.mp4  \n",
            "  inflating: /content/Shop DataSet/non shop lifters/videppppsss_76.mp4  \n",
            "  inflating: /content/Shop DataSet/non shop lifters/videppppsss_77.mp4  \n",
            "  inflating: /content/Shop DataSet/non shop lifters/videppppsss_78.mp4  \n",
            "  inflating: /content/Shop DataSet/non shop lifters/videppppsss_79.mp4  \n",
            "  inflating: /content/Shop DataSet/non shop lifters/videppppsss_8.mp4  \n",
            "  inflating: /content/Shop DataSet/non shop lifters/videppppsss_80.mp4  \n",
            "  inflating: /content/Shop DataSet/non shop lifters/videppppsss_81.mp4  \n",
            "  inflating: /content/Shop DataSet/non shop lifters/videppppsss_82.mp4  \n",
            "  inflating: /content/Shop DataSet/non shop lifters/videppppsss_83.mp4  \n",
            "  inflating: /content/Shop DataSet/non shop lifters/videppppsss_84.mp4  \n",
            "  inflating: /content/Shop DataSet/non shop lifters/videppppsss_85.mp4  \n",
            "  inflating: /content/Shop DataSet/non shop lifters/videppppsss_9.mp4  \n",
            "   creating: /content/Shop DataSet/shop lifters/\n",
            "  inflating: /content/Shop DataSet/shop lifters/shop_lifter_0.mp4  \n",
            "  inflating: /content/Shop DataSet/shop lifters/shop_lifter_1.mp4  \n",
            "  inflating: /content/Shop DataSet/shop lifters/shop_lifter_10.mp4  \n",
            "  inflating: /content/Shop DataSet/shop lifters/shop_lifter_100.mp4  \n",
            "  inflating: /content/Shop DataSet/shop lifters/shop_lifter_101.mp4  \n",
            "  inflating: /content/Shop DataSet/shop lifters/shop_lifter_102.mp4  \n",
            "  inflating: /content/Shop DataSet/shop lifters/shop_lifter_103.mp4  \n",
            "  inflating: /content/Shop DataSet/shop lifters/shop_lifter_104.mp4  \n",
            "  inflating: /content/Shop DataSet/shop lifters/shop_lifter_105.mp4  \n",
            "  inflating: /content/Shop DataSet/shop lifters/shop_lifter_106.mp4  \n",
            "  inflating: /content/Shop DataSet/shop lifters/shop_lifter_107.mp4  \n",
            "  inflating: /content/Shop DataSet/shop lifters/shop_lifter_108.mp4  \n",
            "  inflating: /content/Shop DataSet/shop lifters/shop_lifter_109.mp4  \n",
            "  inflating: /content/Shop DataSet/shop lifters/shop_lifter_11.mp4  \n",
            "  inflating: /content/Shop DataSet/shop lifters/shop_lifter_110.mp4  \n",
            "  inflating: /content/Shop DataSet/shop lifters/shop_lifter_111.mp4  \n",
            "  inflating: /content/Shop DataSet/shop lifters/shop_lifter_112.mp4  \n",
            "  inflating: /content/Shop DataSet/shop lifters/shop_lifter_113.mp4  \n",
            "  inflating: /content/Shop DataSet/shop lifters/shop_lifter_114.mp4  \n",
            "  inflating: /content/Shop DataSet/shop lifters/shop_lifter_115.mp4  \n",
            "  inflating: /content/Shop DataSet/shop lifters/shop_lifter_116.mp4  \n",
            "  inflating: /content/Shop DataSet/shop lifters/shop_lifter_117.mp4  \n",
            "  inflating: /content/Shop DataSet/shop lifters/shop_lifter_118.mp4  \n",
            "  inflating: /content/Shop DataSet/shop lifters/shop_lifter_119.mp4  \n",
            "  inflating: /content/Shop DataSet/shop lifters/shop_lifter_12.mp4  \n",
            "  inflating: /content/Shop DataSet/shop lifters/shop_lifter_120.mp4  \n",
            "  inflating: /content/Shop DataSet/shop lifters/shop_lifter_121.mp4  \n",
            "  inflating: /content/Shop DataSet/shop lifters/shop_lifter_122.mp4  \n",
            "  inflating: /content/Shop DataSet/shop lifters/shop_lifter_123.mp4  \n",
            "  inflating: /content/Shop DataSet/shop lifters/shop_lifter_124.mp4  \n",
            "  inflating: /content/Shop DataSet/shop lifters/shop_lifter_125.mp4  \n",
            "  inflating: /content/Shop DataSet/shop lifters/shop_lifter_126.mp4  \n",
            "  inflating: /content/Shop DataSet/shop lifters/shop_lifter_127.mp4  \n",
            "  inflating: /content/Shop DataSet/shop lifters/shop_lifter_128.mp4  \n",
            "  inflating: /content/Shop DataSet/shop lifters/shop_lifter_13.mp4  \n",
            "  inflating: /content/Shop DataSet/shop lifters/shop_lifter_14.mp4  \n",
            "  inflating: /content/Shop DataSet/shop lifters/shop_lifter_15.mp4  \n",
            "  inflating: /content/Shop DataSet/shop lifters/shop_lifter_16.mp4  \n",
            "  inflating: /content/Shop DataSet/shop lifters/shop_lifter_17.mp4  \n",
            "  inflating: /content/Shop DataSet/shop lifters/shop_lifter_18.mp4  \n",
            "  inflating: /content/Shop DataSet/shop lifters/shop_lifter_19.mp4  \n",
            "  inflating: /content/Shop DataSet/shop lifters/shop_lifter_2.mp4  \n",
            "  inflating: /content/Shop DataSet/shop lifters/shop_lifter_20.mp4  \n",
            "  inflating: /content/Shop DataSet/shop lifters/shop_lifter_21.mp4  \n",
            "  inflating: /content/Shop DataSet/shop lifters/shop_lifter_22.mp4  \n",
            "  inflating: /content/Shop DataSet/shop lifters/shop_lifter_23.mp4  \n",
            "  inflating: /content/Shop DataSet/shop lifters/shop_lifter_24.mp4  \n",
            "  inflating: /content/Shop DataSet/shop lifters/shop_lifter_25.mp4  \n",
            "  inflating: /content/Shop DataSet/shop lifters/shop_lifter_26.mp4  \n",
            "  inflating: /content/Shop DataSet/shop lifters/shop_lifter_27.mp4  \n",
            "  inflating: /content/Shop DataSet/shop lifters/shop_lifter_28.mp4  \n",
            "  inflating: /content/Shop DataSet/shop lifters/shop_lifter_29.mp4  \n",
            "  inflating: /content/Shop DataSet/shop lifters/shop_lifter_3.mp4  \n",
            "  inflating: /content/Shop DataSet/shop lifters/shop_lifter_30.mp4  \n",
            "  inflating: /content/Shop DataSet/shop lifters/shop_lifter_31.mp4  \n",
            "  inflating: /content/Shop DataSet/shop lifters/shop_lifter_32.mp4  \n",
            "  inflating: /content/Shop DataSet/shop lifters/shop_lifter_33.mp4  \n",
            "  inflating: /content/Shop DataSet/shop lifters/shop_lifter_34.mp4  \n",
            "  inflating: /content/Shop DataSet/shop lifters/shop_lifter_35.mp4  \n",
            "  inflating: /content/Shop DataSet/shop lifters/shop_lifter_36.mp4  \n",
            "  inflating: /content/Shop DataSet/shop lifters/shop_lifter_37.mp4  \n",
            "  inflating: /content/Shop DataSet/shop lifters/shop_lifter_38.mp4  \n",
            "  inflating: /content/Shop DataSet/shop lifters/shop_lifter_39.mp4  \n",
            "  inflating: /content/Shop DataSet/shop lifters/shop_lifter_4.mp4  \n",
            "  inflating: /content/Shop DataSet/shop lifters/shop_lifter_40.mp4  \n",
            "  inflating: /content/Shop DataSet/shop lifters/shop_lifter_41.mp4  \n",
            "  inflating: /content/Shop DataSet/shop lifters/shop_lifter_42.mp4  \n",
            "  inflating: /content/Shop DataSet/shop lifters/shop_lifter_43.mp4  \n",
            "  inflating: /content/Shop DataSet/shop lifters/shop_lifter_44.mp4  \n",
            "  inflating: /content/Shop DataSet/shop lifters/shop_lifter_45.mp4  \n",
            "  inflating: /content/Shop DataSet/shop lifters/shop_lifter_46.mp4  \n",
            "  inflating: /content/Shop DataSet/shop lifters/shop_lifter_47.mp4  \n",
            "  inflating: /content/Shop DataSet/shop lifters/shop_lifter_48.mp4  \n",
            "  inflating: /content/Shop DataSet/shop lifters/shop_lifter_49.mp4  \n",
            "  inflating: /content/Shop DataSet/shop lifters/shop_lifter_5.mp4  \n",
            "  inflating: /content/Shop DataSet/shop lifters/shop_lifter_50.mp4  \n",
            "  inflating: /content/Shop DataSet/shop lifters/shop_lifter_51.mp4  \n",
            "  inflating: /content/Shop DataSet/shop lifters/shop_lifter_52.mp4  \n",
            "  inflating: /content/Shop DataSet/shop lifters/shop_lifter_53.mp4  \n",
            "  inflating: /content/Shop DataSet/shop lifters/shop_lifter_54.mp4  \n",
            "  inflating: /content/Shop DataSet/shop lifters/shop_lifter_55.mp4  \n",
            "  inflating: /content/Shop DataSet/shop lifters/shop_lifter_56.mp4  \n",
            "  inflating: /content/Shop DataSet/shop lifters/shop_lifter_57.mp4  \n",
            "  inflating: /content/Shop DataSet/shop lifters/shop_lifter_58.mp4  \n",
            "  inflating: /content/Shop DataSet/shop lifters/shop_lifter_59.mp4  \n",
            "  inflating: /content/Shop DataSet/shop lifters/shop_lifter_6.mp4  \n",
            "  inflating: /content/Shop DataSet/shop lifters/shop_lifter_60.mp4  \n",
            "  inflating: /content/Shop DataSet/shop lifters/shop_lifter_61.mp4  \n",
            "  inflating: /content/Shop DataSet/shop lifters/shop_lifter_62.mp4  \n",
            "  inflating: /content/Shop DataSet/shop lifters/shop_lifter_63.mp4  \n",
            "  inflating: /content/Shop DataSet/shop lifters/shop_lifter_64.mp4  \n",
            "  inflating: /content/Shop DataSet/shop lifters/shop_lifter_65.mp4  \n",
            "  inflating: /content/Shop DataSet/shop lifters/shop_lifter_66.mp4  \n",
            "  inflating: /content/Shop DataSet/shop lifters/shop_lifter_67.mp4  \n",
            "  inflating: /content/Shop DataSet/shop lifters/shop_lifter_68.mp4  \n",
            "  inflating: /content/Shop DataSet/shop lifters/shop_lifter_69.mp4  \n",
            "  inflating: /content/Shop DataSet/shop lifters/shop_lifter_7.mp4  \n",
            "  inflating: /content/Shop DataSet/shop lifters/shop_lifter_70.mp4  \n",
            "  inflating: /content/Shop DataSet/shop lifters/shop_lifter_71.mp4  \n",
            "  inflating: /content/Shop DataSet/shop lifters/shop_lifter_72.mp4  \n",
            "  inflating: /content/Shop DataSet/shop lifters/shop_lifter_73.mp4  \n",
            "  inflating: /content/Shop DataSet/shop lifters/shop_lifter_74.mp4  \n",
            "  inflating: /content/Shop DataSet/shop lifters/shop_lifter_75.mp4  \n",
            "  inflating: /content/Shop DataSet/shop lifters/shop_lifter_76.mp4  \n",
            "  inflating: /content/Shop DataSet/shop lifters/shop_lifter_77.mp4  \n",
            "  inflating: /content/Shop DataSet/shop lifters/shop_lifter_78.mp4  \n",
            "  inflating: /content/Shop DataSet/shop lifters/shop_lifter_79.mp4  \n",
            "  inflating: /content/Shop DataSet/shop lifters/shop_lifter_8.mp4  \n",
            "  inflating: /content/Shop DataSet/shop lifters/shop_lifter_80.mp4  \n",
            "  inflating: /content/Shop DataSet/shop lifters/shop_lifter_81.mp4  \n",
            "  inflating: /content/Shop DataSet/shop lifters/shop_lifter_82.mp4  \n",
            "  inflating: /content/Shop DataSet/shop lifters/shop_lifter_83.mp4  \n",
            "  inflating: /content/Shop DataSet/shop lifters/shop_lifter_84.mp4  \n",
            "  inflating: /content/Shop DataSet/shop lifters/shop_lifter_85.mp4  \n",
            "  inflating: /content/Shop DataSet/shop lifters/shop_lifter_86.mp4  \n",
            "  inflating: /content/Shop DataSet/shop lifters/shop_lifter_87.mp4  \n",
            "  inflating: /content/Shop DataSet/shop lifters/shop_lifter_88.mp4  \n",
            "  inflating: /content/Shop DataSet/shop lifters/shop_lifter_89.mp4  \n",
            "  inflating: /content/Shop DataSet/shop lifters/shop_lifter_9.mp4  \n",
            "  inflating: /content/Shop DataSet/shop lifters/shop_lifter_90.mp4  \n",
            "  inflating: /content/Shop DataSet/shop lifters/shop_lifter_91.mp4  \n",
            "  inflating: /content/Shop DataSet/shop lifters/shop_lifter_92.mp4  \n",
            "  inflating: /content/Shop DataSet/shop lifters/shop_lifter_93.mp4  \n",
            "  inflating: /content/Shop DataSet/shop lifters/shop_lifter_94.mp4  \n",
            "  inflating: /content/Shop DataSet/shop lifters/shop_lifter_95.mp4  \n",
            "  inflating: /content/Shop DataSet/shop lifters/shop_lifter_96.mp4  \n",
            "  inflating: /content/Shop DataSet/shop lifters/shop_lifter_97.mp4  \n",
            "  inflating: /content/Shop DataSet/shop lifters/shop_lifter_98.mp4  \n",
            "  inflating: /content/Shop DataSet/shop lifters/shop_lifter_99.mp4  \n",
            "  inflating: /content/Shop DataSet/shop lifters/videmmmmmmsss_100.mp4  \n",
            "  inflating: /content/Shop DataSet/shop lifters/videmmmmmmsss_101.mp4  \n",
            "  inflating: /content/Shop DataSet/shop lifters/videmmmmmmsss_102.mp4  \n",
            "  inflating: /content/Shop DataSet/shop lifters/videmmmmmmsss_85.mp4  \n",
            "  inflating: /content/Shop DataSet/shop lifters/videmmmmmmsss_86.mp4  \n",
            "  inflating: /content/Shop DataSet/shop lifters/videmmmmmmsss_87.mp4  \n",
            "  inflating: /content/Shop DataSet/shop lifters/videmmmmmmsss_88.mp4  \n",
            "  inflating: /content/Shop DataSet/shop lifters/videmmmmmmsss_89.mp4  \n",
            "  inflating: /content/Shop DataSet/shop lifters/videmmmmmmsss_90.mp4  \n",
            "  inflating: /content/Shop DataSet/shop lifters/videmmmmmmsss_91.mp4  \n",
            "  inflating: /content/Shop DataSet/shop lifters/videmmmmmmsss_92.mp4  \n",
            "  inflating: /content/Shop DataSet/shop lifters/videmmmmmmsss_93.mp4  \n",
            "  inflating: /content/Shop DataSet/shop lifters/videmmmmmmsss_94.mp4  \n",
            "  inflating: /content/Shop DataSet/shop lifters/videmmmmmmsss_95.mp4  \n",
            "  inflating: /content/Shop DataSet/shop lifters/videmmmmmmsss_96.mp4  \n",
            "  inflating: /content/Shop DataSet/shop lifters/videmmmmmmsss_97.mp4  \n",
            "  inflating: /content/Shop DataSet/shop lifters/videmmmmmmsss_98.mp4  \n",
            "  inflating: /content/Shop DataSet/shop lifters/videmmmmmmsss_99.mp4  \n",
            "  inflating: /content/Shop DataSet/shop lifters/videppppsss_0.mp4  \n",
            "  inflating: /content/Shop DataSet/shop lifters/videppppsss_1.mp4  \n",
            "  inflating: /content/Shop DataSet/shop lifters/videppppsss_10.mp4  \n",
            "  inflating: /content/Shop DataSet/shop lifters/videppppsss_11.mp4  \n",
            "  inflating: /content/Shop DataSet/shop lifters/videppppsss_12.mp4  \n",
            "  inflating: /content/Shop DataSet/shop lifters/videppppsss_13.mp4  \n",
            "  inflating: /content/Shop DataSet/shop lifters/videppppsss_14.mp4  \n",
            "  inflating: /content/Shop DataSet/shop lifters/videppppsss_15.mp4  \n",
            "  inflating: /content/Shop DataSet/shop lifters/videppppsss_16.mp4  \n",
            "  inflating: /content/Shop DataSet/shop lifters/videppppsss_17.mp4  \n",
            "  inflating: /content/Shop DataSet/shop lifters/videppppsss_18.mp4  \n",
            "  inflating: /content/Shop DataSet/shop lifters/videppppsss_19.mp4  \n",
            "  inflating: /content/Shop DataSet/shop lifters/videppppsss_2.mp4  \n",
            "  inflating: /content/Shop DataSet/shop lifters/videppppsss_20.mp4  \n",
            "  inflating: /content/Shop DataSet/shop lifters/videppppsss_21.mp4  \n",
            "  inflating: /content/Shop DataSet/shop lifters/videppppsss_22.mp4  \n",
            "  inflating: /content/Shop DataSet/shop lifters/videppppsss_23.mp4  \n",
            "  inflating: /content/Shop DataSet/shop lifters/videppppsss_24.mp4  \n",
            "  inflating: /content/Shop DataSet/shop lifters/videppppsss_25.mp4  \n",
            "  inflating: /content/Shop DataSet/shop lifters/videppppsss_26.mp4  \n",
            "  inflating: /content/Shop DataSet/shop lifters/videppppsss_27.mp4  \n",
            "  inflating: /content/Shop DataSet/shop lifters/videppppsss_28.mp4  \n",
            "  inflating: /content/Shop DataSet/shop lifters/videppppsss_29.mp4  \n",
            "  inflating: /content/Shop DataSet/shop lifters/videppppsss_3.mp4  \n",
            "  inflating: /content/Shop DataSet/shop lifters/videppppsss_30.mp4  \n",
            "  inflating: /content/Shop DataSet/shop lifters/videppppsss_31.mp4  \n",
            "  inflating: /content/Shop DataSet/shop lifters/videppppsss_32.mp4  \n",
            "  inflating: /content/Shop DataSet/shop lifters/videppppsss_33.mp4  \n",
            "  inflating: /content/Shop DataSet/shop lifters/videppppsss_34.mp4  \n",
            "  inflating: /content/Shop DataSet/shop lifters/videppppsss_35.mp4  \n",
            "  inflating: /content/Shop DataSet/shop lifters/videppppsss_36.mp4  \n",
            "  inflating: /content/Shop DataSet/shop lifters/videppppsss_37.mp4  \n",
            "  inflating: /content/Shop DataSet/shop lifters/videppppsss_38.mp4  \n",
            "  inflating: /content/Shop DataSet/shop lifters/videppppsss_39.mp4  \n",
            "  inflating: /content/Shop DataSet/shop lifters/videppppsss_4.mp4  \n",
            "  inflating: /content/Shop DataSet/shop lifters/videppppsss_40.mp4  \n",
            "  inflating: /content/Shop DataSet/shop lifters/videppppsss_41.mp4  \n",
            "  inflating: /content/Shop DataSet/shop lifters/videppppsss_42.mp4  \n",
            "  inflating: /content/Shop DataSet/shop lifters/videppppsss_43.mp4  \n",
            "  inflating: /content/Shop DataSet/shop lifters/videppppsss_44.mp4  \n",
            "  inflating: /content/Shop DataSet/shop lifters/videppppsss_45.mp4  \n",
            "  inflating: /content/Shop DataSet/shop lifters/videppppsss_46.mp4  \n",
            "  inflating: /content/Shop DataSet/shop lifters/videppppsss_47.mp4  \n",
            "  inflating: /content/Shop DataSet/shop lifters/videppppsss_48.mp4  \n",
            "  inflating: /content/Shop DataSet/shop lifters/videppppsss_49.mp4  \n",
            "  inflating: /content/Shop DataSet/shop lifters/videppppsss_5.mp4  \n",
            "  inflating: /content/Shop DataSet/shop lifters/videppppsss_50.mp4  \n",
            "  inflating: /content/Shop DataSet/shop lifters/videppppsss_51.mp4  \n",
            "  inflating: /content/Shop DataSet/shop lifters/videppppsss_52.mp4  \n",
            "  inflating: /content/Shop DataSet/shop lifters/videppppsss_53.mp4  \n",
            "  inflating: /content/Shop DataSet/shop lifters/videppppsss_54.mp4  \n",
            "  inflating: /content/Shop DataSet/shop lifters/videppppsss_55.mp4  \n",
            "  inflating: /content/Shop DataSet/shop lifters/videppppsss_6.mp4  \n",
            "  inflating: /content/Shop DataSet/shop lifters/videppppsss_7.mp4  \n",
            "  inflating: /content/Shop DataSet/shop lifters/videppppsss_8.mp4  \n",
            "  inflating: /content/Shop DataSet/shop lifters/videppppsss_9.mp4  \n",
            "  inflating: /content/Shop DataSet/shop lifters/videyyyyyynnnnnnzzzzzyyyss_0.mp4  \n",
            "  inflating: /content/Shop DataSet/shop lifters/videyyyyyynnnnnnzzzzzyyyss_1.mp4  \n",
            "  inflating: /content/Shop DataSet/shop lifters/videyyyyyynnnnnnzzzzzyyyss_10.mp4  \n",
            "  inflating: /content/Shop DataSet/shop lifters/videyyyyyynnnnnnzzzzzyyyss_11.mp4  \n",
            "  inflating: /content/Shop DataSet/shop lifters/videyyyyyynnnnnnzzzzzyyyss_12.mp4  \n",
            "  inflating: /content/Shop DataSet/shop lifters/videyyyyyynnnnnnzzzzzyyyss_13.mp4  \n",
            "  inflating: /content/Shop DataSet/shop lifters/videyyyyyynnnnnnzzzzzyyyss_14.mp4  \n",
            "  inflating: /content/Shop DataSet/shop lifters/videyyyyyynnnnnnzzzzzyyyss_15.mp4  \n",
            "  inflating: /content/Shop DataSet/shop lifters/videyyyyyynnnnnnzzzzzyyyss_16.mp4  \n",
            "  inflating: /content/Shop DataSet/shop lifters/videyyyyyynnnnnnzzzzzyyyss_17.mp4  \n",
            "  inflating: /content/Shop DataSet/shop lifters/videyyyyyynnnnnnzzzzzyyyss_18.mp4  \n",
            "  inflating: /content/Shop DataSet/shop lifters/videyyyyyynnnnnnzzzzzyyyss_19.mp4  \n",
            "  inflating: /content/Shop DataSet/shop lifters/videyyyyyynnnnnnzzzzzyyyss_2.mp4  \n",
            "  inflating: /content/Shop DataSet/shop lifters/videyyyyyynnnnnnzzzzzyyyss_20.mp4  \n",
            "  inflating: /content/Shop DataSet/shop lifters/videyyyyyynnnnnnzzzzzyyyss_21.mp4  \n",
            "  inflating: /content/Shop DataSet/shop lifters/videyyyyyynnnnnnzzzzzyyyss_22.mp4  \n",
            "  inflating: /content/Shop DataSet/shop lifters/videyyyyyynnnnnnzzzzzyyyss_23.mp4  \n",
            "  inflating: /content/Shop DataSet/shop lifters/videyyyyyynnnnnnzzzzzyyyss_24.mp4  \n",
            "  inflating: /content/Shop DataSet/shop lifters/videyyyyyynnnnnnzzzzzyyyss_25.mp4  \n",
            "  inflating: /content/Shop DataSet/shop lifters/videyyyyyynnnnnnzzzzzyyyss_26.mp4  \n",
            "  inflating: /content/Shop DataSet/shop lifters/videyyyyyynnnnnnzzzzzyyyss_27.mp4  \n",
            "  inflating: /content/Shop DataSet/shop lifters/videyyyyyynnnnnnzzzzzyyyss_28.mp4  \n",
            "  inflating: /content/Shop DataSet/shop lifters/videyyyyyynnnnnnzzzzzyyyss_29.mp4  \n",
            "  inflating: /content/Shop DataSet/shop lifters/videyyyyyynnnnnnzzzzzyyyss_3.mp4  \n",
            "  inflating: /content/Shop DataSet/shop lifters/videyyyyyynnnnnnzzzzzyyyss_4.mp4  \n",
            "  inflating: /content/Shop DataSet/shop lifters/videyyyyyynnnnnnzzzzzyyyss_5.mp4  \n",
            "  inflating: /content/Shop DataSet/shop lifters/videyyyyyynnnnnnzzzzzyyyss_6.mp4  \n",
            "  inflating: /content/Shop DataSet/shop lifters/videyyyyyynnnnnnzzzzzyyyss_7.mp4  \n",
            "  inflating: /content/Shop DataSet/shop lifters/videyyyyyynnnnnnzzzzzyyyss_8.mp4  \n",
            "  inflating: /content/Shop DataSet/shop lifters/videyyyyyynnnnnnzzzzzyyyss_9.mp4  \n",
            "  inflating: /content/Shop DataSet/shop lifters/videyyyyyyyyyss_0.mp4  \n",
            "  inflating: /content/Shop DataSet/shop lifters/videyyyyyyyyyss_1.mp4  \n",
            "  inflating: /content/Shop DataSet/shop lifters/videyyyyyyyyyss_10.mp4  \n",
            "  inflating: /content/Shop DataSet/shop lifters/videyyyyyyyyyss_11.mp4  \n",
            "  inflating: /content/Shop DataSet/shop lifters/videyyyyyyyyyss_12.mp4  \n",
            "  inflating: /content/Shop DataSet/shop lifters/videyyyyyyyyyss_13.mp4  \n",
            "  inflating: /content/Shop DataSet/shop lifters/videyyyyyyyyyss_14.mp4  \n",
            "  inflating: /content/Shop DataSet/shop lifters/videyyyyyyyyyss_15.mp4  \n",
            "  inflating: /content/Shop DataSet/shop lifters/videyyyyyyyyyss_16.mp4  \n",
            "  inflating: /content/Shop DataSet/shop lifters/videyyyyyyyyyss_17.mp4  \n",
            "  inflating: /content/Shop DataSet/shop lifters/videyyyyyyyyyss_18.mp4  \n",
            "  inflating: /content/Shop DataSet/shop lifters/videyyyyyyyyyss_19.mp4  \n",
            "  inflating: /content/Shop DataSet/shop lifters/videyyyyyyyyyss_2.mp4  \n",
            "  inflating: /content/Shop DataSet/shop lifters/videyyyyyyyyyss_20.mp4  \n",
            "  inflating: /content/Shop DataSet/shop lifters/videyyyyyyyyyss_21.mp4  \n",
            "  inflating: /content/Shop DataSet/shop lifters/videyyyyyyyyyss_22.mp4  \n",
            "  inflating: /content/Shop DataSet/shop lifters/videyyyyyyyyyss_23.mp4  \n",
            "  inflating: /content/Shop DataSet/shop lifters/videyyyyyyyyyss_24.mp4  \n",
            "  inflating: /content/Shop DataSet/shop lifters/videyyyyyyyyyss_25.mp4  \n",
            "  inflating: /content/Shop DataSet/shop lifters/videyyyyyyyyyss_26.mp4  \n",
            "  inflating: /content/Shop DataSet/shop lifters/videyyyyyyyyyss_27.mp4  \n",
            "  inflating: /content/Shop DataSet/shop lifters/videyyyyyyyyyss_28.mp4  \n",
            "  inflating: /content/Shop DataSet/shop lifters/videyyyyyyyyyss_29.mp4  \n",
            "  inflating: /content/Shop DataSet/shop lifters/videyyyyyyyyyss_3.mp4  \n",
            "  inflating: /content/Shop DataSet/shop lifters/videyyyyyyyyyss_30.mp4  \n",
            "  inflating: /content/Shop DataSet/shop lifters/videyyyyyyyyyss_31.mp4  \n",
            "  inflating: /content/Shop DataSet/shop lifters/videyyyyyyyyyss_32.mp4  \n",
            "  inflating: /content/Shop DataSet/shop lifters/videyyyyyyyyyss_33.mp4  \n",
            "  inflating: /content/Shop DataSet/shop lifters/videyyyyyyyyyss_34.mp4  \n",
            "  inflating: /content/Shop DataSet/shop lifters/videyyyyyyyyyss_35.mp4  \n",
            "  inflating: /content/Shop DataSet/shop lifters/videyyyyyyyyyss_36.mp4  \n",
            "  inflating: /content/Shop DataSet/shop lifters/videyyyyyyyyyss_37.mp4  \n",
            "  inflating: /content/Shop DataSet/shop lifters/videyyyyyyyyyss_38.mp4  \n",
            "  inflating: /content/Shop DataSet/shop lifters/videyyyyyyyyyss_39.mp4  \n",
            "  inflating: /content/Shop DataSet/shop lifters/videyyyyyyyyyss_4.mp4  \n",
            "  inflating: /content/Shop DataSet/shop lifters/videyyyyyyyyyss_40.mp4  \n",
            "  inflating: /content/Shop DataSet/shop lifters/videyyyyyyyyyss_41.mp4  \n",
            "  inflating: /content/Shop DataSet/shop lifters/videyyyyyyyyyss_42.mp4  \n",
            "  inflating: /content/Shop DataSet/shop lifters/videyyyyyyyyyss_43.mp4  \n",
            "  inflating: /content/Shop DataSet/shop lifters/videyyyyyyyyyss_44.mp4  \n",
            "  inflating: /content/Shop DataSet/shop lifters/videyyyyyyyyyss_45.mp4  \n",
            "  inflating: /content/Shop DataSet/shop lifters/videyyyyyyyyyss_46.mp4  \n",
            "  inflating: /content/Shop DataSet/shop lifters/videyyyyyyyyyss_47.mp4  \n",
            "  inflating: /content/Shop DataSet/shop lifters/videyyyyyyyyyss_48.mp4  \n",
            "  inflating: /content/Shop DataSet/shop lifters/videyyyyyyyyyss_49.mp4  \n",
            "  inflating: /content/Shop DataSet/shop lifters/videyyyyyyyyyss_5.mp4  \n",
            "  inflating: /content/Shop DataSet/shop lifters/videyyyyyyyyyss_50.mp4  \n",
            "  inflating: /content/Shop DataSet/shop lifters/videyyyyyyyyyss_51.mp4  \n",
            "  inflating: /content/Shop DataSet/shop lifters/videyyyyyyyyyss_52.mp4  \n",
            "  inflating: /content/Shop DataSet/shop lifters/videyyyyyyyyyss_53.mp4  \n",
            "  inflating: /content/Shop DataSet/shop lifters/videyyyyyyyyyss_54.mp4  \n",
            "  inflating: /content/Shop DataSet/shop lifters/videyyyyyyyyyss_55.mp4  \n",
            "  inflating: /content/Shop DataSet/shop lifters/videyyyyyyyyyss_56.mp4  \n",
            "  inflating: /content/Shop DataSet/shop lifters/videyyyyyyyyyss_57.mp4  \n",
            "  inflating: /content/Shop DataSet/shop lifters/videyyyyyyyyyss_58.mp4  \n",
            "  inflating: /content/Shop DataSet/shop lifters/videyyyyyyyyyss_59.mp4  \n",
            "  inflating: /content/Shop DataSet/shop lifters/videyyyyyyyyyss_6.mp4  \n",
            "  inflating: /content/Shop DataSet/shop lifters/videyyyyyyyyyss_60.mp4  \n",
            "  inflating: /content/Shop DataSet/shop lifters/videyyyyyyyyyss_61.mp4  \n",
            "  inflating: /content/Shop DataSet/shop lifters/videyyyyyyyyyss_62.mp4  \n",
            "  inflating: /content/Shop DataSet/shop lifters/videyyyyyyyyyss_63.mp4  \n",
            "  inflating: /content/Shop DataSet/shop lifters/videyyyyyyyyyss_64.mp4  \n",
            "  inflating: /content/Shop DataSet/shop lifters/videyyyyyyyyyss_65.mp4  \n",
            "  inflating: /content/Shop DataSet/shop lifters/videyyyyyyyyyss_7.mp4  \n",
            "  inflating: /content/Shop DataSet/shop lifters/videyyyyyyyyyss_8.mp4  \n",
            "  inflating: /content/Shop DataSet/shop lifters/videyyyyyyyyyss_9.mp4  \n",
            "  inflating: /content/Shop DataSet/shop lifters/videyyyyyyzzzzzyyyss_0.mp4  \n",
            "  inflating: /content/Shop DataSet/shop lifters/videyyyyyyzzzzzyyyss_1.mp4  \n",
            "  inflating: /content/Shop DataSet/shop lifters/videyyyyyyzzzzzyyyss_10.mp4  \n",
            "  inflating: /content/Shop DataSet/shop lifters/videyyyyyyzzzzzyyyss_11.mp4  \n",
            "  inflating: /content/Shop DataSet/shop lifters/videyyyyyyzzzzzyyyss_12.mp4  \n",
            "  inflating: /content/Shop DataSet/shop lifters/videyyyyyyzzzzzyyyss_13.mp4  \n",
            "  inflating: /content/Shop DataSet/shop lifters/videyyyyyyzzzzzyyyss_14.mp4  \n",
            "  inflating: /content/Shop DataSet/shop lifters/videyyyyyyzzzzzyyyss_15.mp4  \n",
            "  inflating: /content/Shop DataSet/shop lifters/videyyyyyyzzzzzyyyss_16.mp4  \n",
            "  inflating: /content/Shop DataSet/shop lifters/videyyyyyyzzzzzyyyss_17.mp4  \n",
            "  inflating: /content/Shop DataSet/shop lifters/videyyyyyyzzzzzyyyss_18.mp4  \n",
            "  inflating: /content/Shop DataSet/shop lifters/videyyyyyyzzzzzyyyss_19.mp4  \n",
            "  inflating: /content/Shop DataSet/shop lifters/videyyyyyyzzzzzyyyss_2.mp4  \n",
            "  inflating: /content/Shop DataSet/shop lifters/videyyyyyyzzzzzyyyss_20.mp4  \n",
            "  inflating: /content/Shop DataSet/shop lifters/videyyyyyyzzzzzyyyss_21.mp4  \n",
            "  inflating: /content/Shop DataSet/shop lifters/videyyyyyyzzzzzyyyss_22.mp4  \n",
            "  inflating: /content/Shop DataSet/shop lifters/videyyyyyyzzzzzyyyss_23.mp4  \n",
            "  inflating: /content/Shop DataSet/shop lifters/videyyyyyyzzzzzyyyss_24.mp4  \n",
            "  inflating: /content/Shop DataSet/shop lifters/videyyyyyyzzzzzyyyss_3.mp4  \n",
            "  inflating: /content/Shop DataSet/shop lifters/videyyyyyyzzzzzyyyss_4.mp4  \n",
            "  inflating: /content/Shop DataSet/shop lifters/videyyyyyyzzzzzyyyss_5.mp4  \n",
            "  inflating: /content/Shop DataSet/shop lifters/videyyyyyyzzzzzyyyss_6.mp4  \n",
            "  inflating: /content/Shop DataSet/shop lifters/videyyyyyyzzzzzyyyss_7.mp4  \n",
            "  inflating: /content/Shop DataSet/shop lifters/videyyyyyyzzzzzyyyss_8.mp4  \n",
            "  inflating: /content/Shop DataSet/shop lifters/videyyyyyyzzzzzyyyss_9.mp4  \n"
          ]
        }
      ],
      "source": [
        "!unzip \"/content/drive/MyDrive/shop dataSet.zip\" -d \"/content\""
      ]
    },
    {
      "cell_type": "markdown",
      "id": "0c6a90e5",
      "metadata": {
        "id": "0c6a90e5"
      },
      "source": [
        "### Importing Libraries"
      ]
    },
    {
      "cell_type": "code",
      "execution_count": 3,
      "id": "a675b4ac",
      "metadata": {
        "id": "a675b4ac"
      },
      "outputs": [],
      "source": [
        "import tensorflow as tf\n",
        "from tensorflow import keras\n",
        "import os\n",
        "import numpy as np\n",
        "import cv2\n",
        "import random\n",
        "from sklearn import metrics\n",
        "from sklearn.model_selection import train_test_split\n",
        "import matplotlib.pyplot as plt\n",
        "from tensorflow.keras.layers import *\n",
        "from tensorflow.keras.models import Sequential\n",
        "from tensorflow.keras.callbacks import EarlyStopping, ModelCheckpoint, ReduceLROnPlateau\n",
        "import seaborn as sns\n",
        "import warnings\n",
        "\n",
        "warnings.filterwarnings('ignore')\n",
        "tf.config.optimizer.set_experimental_options({\"auto_mixed_precision\": False})\n"
      ]
    },
    {
      "cell_type": "markdown",
      "id": "6f99dd95",
      "metadata": {
        "id": "6f99dd95"
      },
      "source": [
        "### random seed for reproducibility"
      ]
    },
    {
      "cell_type": "code",
      "execution_count": 4,
      "id": "eece6673",
      "metadata": {
        "id": "eece6673"
      },
      "outputs": [],
      "source": [
        "seed_constant = 27\n",
        "np.random.seed(seed_constant)\n",
        "random.seed(seed_constant)\n",
        "tf.random.set_seed(seed_constant)"
      ]
    },
    {
      "cell_type": "markdown",
      "id": "72cfb71f",
      "metadata": {
        "id": "72cfb71f"
      },
      "source": [
        "### Dataset Exploration"
      ]
    },
    {
      "cell_type": "code",
      "execution_count": 5,
      "id": "f0f39f34",
      "metadata": {
        "colab": {
          "base_uri": "https://localhost:8080/"
        },
        "id": "f0f39f34",
        "outputId": "46fa07cc-e658-45ae-c6c3-01272ce6b138"
      },
      "outputs": [
        {
          "output_type": "stream",
          "name": "stdout",
          "text": [
            "Found 324 video files in the directory: /content/Shop DataSet/shop lifters\n",
            "Found 531 video files in the directory: /content/Shop DataSet/non shop lifters\n"
          ]
        }
      ],
      "source": [
        "DATASET_DIR = \"/content/Shop DataSet\"\n",
        "shop_lifters_dir = os.path.join(DATASET_DIR, \"shop lifters\")\n",
        "non_shop_lifters_dir = os.path.join(DATASET_DIR, \"non shop lifters\")\n",
        "\n",
        "#print the number of video files in each directory\n",
        "print(f\"Found {len(os.listdir(shop_lifters_dir))} video files in the directory: {shop_lifters_dir}\")\n",
        "print(f\"Found {len(os.listdir(non_shop_lifters_dir))} video files in the directory: {non_shop_lifters_dir}\")"
      ]
    },
    {
      "cell_type": "code",
      "execution_count": 6,
      "id": "4d2ffb9f",
      "metadata": {
        "id": "4d2ffb9f"
      },
      "outputs": [],
      "source": [
        "#inspect a few samples\n",
        "def inspect_samples(video_dir):\n",
        "    for video_file in os.listdir(video_dir)[:10]:\n",
        "        cap = cv2.VideoCapture(os.path.join(video_dir, video_file))\n",
        "        frame_width = int(cap.get(cv2.CAP_PROP_FRAME_WIDTH))\n",
        "        frame_height = int(cap.get(cv2.CAP_PROP_FRAME_HEIGHT))\n",
        "        frame_rate = int(cap.get(cv2.CAP_PROP_FPS))\n",
        "        frame_count = int(cap.get(cv2.CAP_PROP_FRAME_COUNT))\n",
        "        cap.release()\n",
        "\n",
        "        print(f\"Video: {video_file}, Width: {frame_width}, Height: {frame_height}, FPS: {frame_rate}, Frames: {frame_count}\")\n"
      ]
    },
    {
      "cell_type": "code",
      "execution_count": 7,
      "id": "03520f5c",
      "metadata": {
        "colab": {
          "base_uri": "https://localhost:8080/"
        },
        "id": "03520f5c",
        "outputId": "6cb5d928-a17e-4157-f9ed-256cef905b69"
      },
      "outputs": [
        {
          "output_type": "stream",
          "name": "stdout",
          "text": [
            "Video: shop_lifter_46.mp4, Width: 704, Height: 576, FPS: 24, Frames: 322\n",
            "Video: videyyyyyynnnnnnzzzzzyyyss_8.mp4, Width: 704, Height: 576, FPS: 25, Frames: 300\n",
            "Video: shop_lifter_54.mp4, Width: 704, Height: 576, FPS: 24, Frames: 297\n",
            "Video: videyyyyyyyyyss_59.mp4, Width: 704, Height: 576, FPS: 25, Frames: 300\n",
            "Video: videmmmmmmsss_97.mp4, Width: 704, Height: 576, FPS: 24, Frames: 223\n",
            "Video: shop_lifter_64.mp4, Width: 704, Height: 576, FPS: 24, Frames: 273\n",
            "Video: videyyyyyynnnnnnzzzzzyyyss_6.mp4, Width: 704, Height: 576, FPS: 25, Frames: 300\n",
            "Video: videppppsss_55.mp4, Width: 704, Height: 576, FPS: 25, Frames: 150\n",
            "Video: shop_lifter_93.mp4, Width: 704, Height: 576, FPS: 25, Frames: 375\n",
            "Video: videyyyyyyyyyss_62.mp4, Width: 704, Height: 576, FPS: 25, Frames: 300\n"
          ]
        }
      ],
      "source": [
        "inspect_samples(shop_lifters_dir) #shop lifters directory"
      ]
    },
    {
      "cell_type": "code",
      "execution_count": 8,
      "id": "84cc41e4",
      "metadata": {
        "colab": {
          "base_uri": "https://localhost:8080/"
        },
        "id": "84cc41e4",
        "outputId": "d2c8f237-8322-4f12-a2ad-99f2b57c2918"
      },
      "outputs": [
        {
          "output_type": "stream",
          "name": "stdout",
          "text": [
            "Video: shop_lifter_n_175.mp4, Width: 704, Height: 576, FPS: 25, Frames: 450\n",
            "Video: shop_lifter_n_156.mp4, Width: 704, Height: 576, FPS: 25, Frames: 200\n",
            "Video: shop_lifter_n_166.mp4, Width: 704, Height: 576, FPS: 25, Frames: 375\n",
            "Video: shop_lifter_n_177.mp4, Width: 704, Height: 576, FPS: 25, Frames: 425\n",
            "Video: shop_lifter_n_176_1.mp4, Width: 704, Height: 576, FPS: 25, Frames: 375\n",
            "Video: shop_lifter_n_27.mp4, Width: 704, Height: 576, FPS: 25, Frames: 200\n",
            "Video: shop_lifter_n_120_1.mp4, Width: 704, Height: 576, FPS: 25, Frames: 250\n",
            "Video: shop_lifter_n_23_1.mp4, Width: 704, Height: 576, FPS: 25, Frames: 350\n",
            "Video: shop_lifter_n_159.mp4, Width: 704, Height: 576, FPS: 25, Frames: 375\n",
            "Video: shop_lifter_n_70_1.mp4, Width: 704, Height: 576, FPS: 25, Frames: 375\n"
          ]
        }
      ],
      "source": [
        "inspect_samples(non_shop_lifters_dir) #non shop lifters directory"
      ]
    },
    {
      "cell_type": "markdown",
      "id": "52d7dcc6",
      "metadata": {
        "id": "52d7dcc6"
      },
      "source": [
        "### Dataset Preprocessing and preparation"
      ]
    },
    {
      "cell_type": "code",
      "execution_count": 9,
      "id": "U1ZYENsgu5Tt",
      "metadata": {
        "colab": {
          "base_uri": "https://localhost:8080/"
        },
        "id": "U1ZYENsgu5Tt",
        "outputId": "4dac4a85-5cef-49b5-c2a1-f8375384db3b"
      },
      "outputs": [
        {
          "output_type": "stream",
          "name": "stdout",
          "text": [
            "['non shop lifters', 'shop lifters']\n"
          ]
        }
      ],
      "source": [
        "IMAGE_HEIGHT , IMAGE_WIDTH = 64, 64 # height and width to which each video frame will be resized in our dataset.\n",
        "\n",
        "SEQUENCE_LENGTH = 20 # number of frames of a video that will be fed to the model as one sequence.\n",
        "\n",
        "CLASSES_LIST = sorted([entry.name for entry in os.scandir(DATASET_DIR) if entry.is_dir()])\n",
        "print(CLASSES_LIST)"
      ]
    },
    {
      "cell_type": "code",
      "execution_count": 10,
      "id": "jSE1zy7rtviF",
      "metadata": {
        "id": "jSE1zy7rtviF"
      },
      "outputs": [],
      "source": [
        "def frames_extraction(video_path):\n",
        "\n",
        "    # Declare a list to store video frames.\n",
        "    frames_list = []\n",
        "\n",
        "    # Read the Video File using the VideoCapture object.\n",
        "    video_reader = cv2.VideoCapture(video_path)\n",
        "\n",
        "    # Get the total number of frames in the video.\n",
        "    video_frames_count = int(video_reader.get(cv2.CAP_PROP_FRAME_COUNT))\n",
        "\n",
        "    # Calculate the the interval after which frames will be added to the list.\n",
        "    skip_frames_window = max(int(video_frames_count/SEQUENCE_LENGTH), 1)\n",
        "\n",
        "    # Iterate through the Video Frames.\n",
        "    for frame_counter in range(SEQUENCE_LENGTH):\n",
        "\n",
        "        # Set the current frame position of the video.\n",
        "        video_reader.set(cv2.CAP_PROP_POS_FRAMES, frame_counter * skip_frames_window)\n",
        "\n",
        "        # Reading the frame from the video.\n",
        "        success, frame = video_reader.read()\n",
        "\n",
        "        # Check if Video frame is not successfully read then break the loop\n",
        "        if not success:\n",
        "            break\n",
        "\n",
        "        # Resize the Frame to fixed height and width.\n",
        "        resized_frame = cv2.resize(frame, (IMAGE_HEIGHT, IMAGE_WIDTH))\n",
        "\n",
        "        # Normalize the resized frame by dividing it with 255 so that each pixel value then lies between 0 and 1\n",
        "        normalized_frame = resized_frame / 255\n",
        "\n",
        "        # Append the normalized frame into the frames list\n",
        "        frames_list.append(normalized_frame)\n",
        "\n",
        "    # Release the VideoCapture object.\n",
        "    video_reader.release()\n",
        "\n",
        "    # Return the frames list.\n",
        "    return frames_list\n"
      ]
    },
    {
      "cell_type": "code",
      "execution_count": 11,
      "id": "y9kg5SjftvYo",
      "metadata": {
        "id": "y9kg5SjftvYo"
      },
      "outputs": [],
      "source": [
        "def create_dataset():\n",
        "\n",
        "    # Declared Empty Lists to store the features, labels and video file path values.\n",
        "    features = []\n",
        "    labels = []\n",
        "    video_files_paths = []\n",
        "\n",
        "    # Iterating through all the classes mentioned in the classes list\n",
        "    for class_index, class_name in enumerate(CLASSES_LIST):\n",
        "\n",
        "        # Display the name of the class whose data is being extracted.\n",
        "        print(f'Extracting Data of Class: {class_name}')\n",
        "\n",
        "        # Get the list of video files present in the specific class name directory.\n",
        "        files_list = os.listdir(os.path.join(DATASET_DIR, class_name))\n",
        "\n",
        "        # Iterate through all the files present in the files list.\n",
        "        for file_name in files_list:\n",
        "\n",
        "            # Get the complete video path.\n",
        "            video_file_path = os.path.join(DATASET_DIR, class_name, file_name)\n",
        "\n",
        "            # Extract the frames of the video file.\n",
        "            frames = frames_extraction(video_file_path)\n",
        "\n",
        "            # Check if the extracted frames are equal to the SEQUENCE_LENGTH specified above.\n",
        "            if len(frames) == SEQUENCE_LENGTH:\n",
        "\n",
        "                # Append the data to their repective lists.\n",
        "                features.append(frames)\n",
        "                labels.append(class_index)\n",
        "                video_files_paths.append(video_file_path)\n",
        "\n",
        "    # Converting the list to numpy arrays\n",
        "    features = np.asarray(features)\n",
        "    labels = np.array(labels)\n",
        "\n",
        "    # Return the frames, class index, and video file path.\n",
        "    return features, labels, video_files_paths"
      ]
    },
    {
      "cell_type": "code",
      "execution_count": 12,
      "id": "LyB49BaYtvVR",
      "metadata": {
        "colab": {
          "base_uri": "https://localhost:8080/"
        },
        "id": "LyB49BaYtvVR",
        "outputId": "144c8b31-965c-4ebe-bb3a-6ad69287e96f"
      },
      "outputs": [
        {
          "output_type": "stream",
          "name": "stdout",
          "text": [
            "Extracting Data of Class: non shop lifters\n",
            "Extracting Data of Class: shop lifters\n"
          ]
        }
      ],
      "source": [
        "# Create the dataset.\n",
        "features, labels, video_files_paths = create_dataset()"
      ]
    },
    {
      "cell_type": "code",
      "execution_count": 13,
      "id": "IG39hWIQGHR4",
      "metadata": {
        "colab": {
          "base_uri": "https://localhost:8080/"
        },
        "id": "IG39hWIQGHR4",
        "outputId": "94e3414e-a55d-47ad-d07d-6e456fed2e01"
      },
      "outputs": [
        {
          "output_type": "stream",
          "name": "stdout",
          "text": [
            "[0 0 0 0 0 0 0 0 0 0 0 0 0 0 0 0 0 0 0 0 0 0 0 0 0 0 0 0 0 0 0 0 0 0 0 0 0\n",
            " 0 0 0 0 0 0 0 0 0 0 0 0 0 0 0 0 0 0 0 0 0 0 0 0 0 0 0 0 0 0 0 0 0 0 0 0 0\n",
            " 0 0 0 0 0 0 0 0 0 0 0 0 0 0 0 0 0 0 0 0 0 0 0 0 0 0 0 0 0 0 0 0 0 0 0 0 0\n",
            " 0 0 0 0 0 0 0 0 0 0 0 0 0 0 0 0 0 0 0 0 0 0 0 0 0 0 0 0 0 0 0 0 0 0 0 0 0\n",
            " 0 0 0 0 0 0 0 0 0 0 0 0 0 0 0 0 0 0 0 0 0 0 0 0 0 0 0 0 0 0 0 0 0 0 0 0 0\n",
            " 0 0 0 0 0 0 0 0 0 0 0 0 0 0 0 0 0 0 0 0 0 0 0 0 0 0 0 0 0 0 0 0 0 0 0 0 0\n",
            " 0 0 0 0 0 0 0 0 0 0 0 0 0 0 0 0 0 0 0 0 0 0 0 0 0 0 0 0 0 0 0 0 0 0 0 0 0\n",
            " 0 0 0 0 0 0 0 0 0 0 0 0 0 0 0 0 0 0 0 0 0 0 0 0 0 0 0 0 0 0 0 0 0 0 0 0 0\n",
            " 0 0 0 0 0 0 0 0 0 0 0 0 0 0 0 0 0 0 0 0 0 0 0 0 0 0 0 0 0 0 0 0 0 0 0 0 0\n",
            " 0 0 0 0 0 0 0 0 0 0 0 0 0 0 0 0 0 0 0 0 0 0 0 0 0 0 0 0 0 0 0 0 0 0 0 0 0\n",
            " 0 0 0 0 0 0 0 0 0 0 0 0 0 0 0 0 0 0 0 0 0 0 0 0 0 0 0 0 0 0 0 0 0 0 0 0 0\n",
            " 0 0 0 0 0 0 0 0 0 0 0 0 0 0 0 0 0 0 0 0 0 0 0 0 0 0 0 0 0 0 0 0 0 0 0 0 0\n",
            " 0 0 0 0 0 0 0 0 0 0 0 0 0 0 0 0 0 0 0 0 0 0 0 0 0 0 0 0 0 0 0 0 0 0 0 0 0\n",
            " 0 0 0 0 0 0 0 0 0 0 0 0 0 0 0 0 0 0 0 0 0 0 0 0 0 0 0 0 0 0 0 0 0 0 0 0 0\n",
            " 0 0 0 0 0 0 0 0 0 0 0 0 0 1 1 1 1 1 1 1 1 1 1 1 1 1 1 1 1 1 1 1 1 1 1 1 1\n",
            " 1 1 1 1 1 1 1 1 1 1 1 1 1 1 1 1 1 1 1 1 1 1 1 1 1 1 1 1 1 1 1 1 1 1 1 1 1\n",
            " 1 1 1 1 1 1 1 1 1 1 1 1 1 1 1 1 1 1 1 1 1 1 1 1 1 1 1 1 1 1 1 1 1 1 1 1 1\n",
            " 1 1 1 1 1 1 1 1 1 1 1 1 1 1 1 1 1 1 1 1 1 1 1 1 1 1 1 1 1 1 1 1 1 1 1 1 1\n",
            " 1 1 1 1 1 1 1 1 1 1 1 1 1 1 1 1 1 1 1 1 1 1 1 1 1 1 1 1 1 1 1 1 1 1 1 1 1\n",
            " 1 1 1 1 1 1 1 1 1 1 1 1 1 1 1 1 1 1 1 1 1 1 1 1 1 1 1 1 1 1 1 1 1 1 1 1 1\n",
            " 1 1 1 1 1 1 1 1 1 1 1 1 1 1 1 1 1 1 1 1 1 1 1 1 1 1 1 1 1 1 1 1 1 1 1 1 1\n",
            " 1 1 1 1 1 1 1 1 1 1 1 1 1 1 1 1 1 1 1 1 1 1 1 1 1 1 1 1 1 1 1 1 1 1 1 1 1\n",
            " 1 1 1 1 1 1 1 1 1 1 1 1 1 1 1 1 1 1 1 1 1 1 1 1 1 1 1 1 1 1 1 1 1 1 1 1 1\n",
            " 1 1 1 1]\n"
          ]
        }
      ],
      "source": [
        "print(labels)"
      ]
    },
    {
      "cell_type": "code",
      "execution_count": 14,
      "id": "EUQzvEK7tvPz",
      "metadata": {
        "colab": {
          "base_uri": "https://localhost:8080/"
        },
        "id": "EUQzvEK7tvPz",
        "outputId": "7270db7e-e273-40ad-eb3c-ceb961ae6721"
      },
      "outputs": [
        {
          "output_type": "stream",
          "name": "stdout",
          "text": [
            "num of training samples: 598 , and the shape is (598, 20, 64, 64, 3)\n",
            "num of validation samples: 128 , and the shape is (128, 20, 64, 64, 3)\n",
            "num of test samples: 129 , and the shape is (129, 20, 64, 64, 3)\n"
          ]
        }
      ],
      "source": [
        "#Split the Data into 70% for training, 15% for validation and 15% for testing\n",
        "\n",
        "train_features, temp_features, train_labels, temp_labels = train_test_split(\n",
        "    features, labels, test_size=0.3, shuffle=True, random_state=seed_constant\n",
        ")\n",
        "\n",
        "val_features, test_features, val_labels, test_labels = train_test_split(\n",
        "    temp_features, temp_labels, test_size=0.5, shuffle=False, random_state=seed_constant\n",
        ")\n",
        "\n",
        "print(f\"num of training samples: {len(train_features)} , and the shape is {train_features.shape}\")\n",
        "print(f\"num of validation samples: {len(val_features)} , and the shape is {val_features.shape}\")\n",
        "print(f\"num of test samples: {len(test_features)} , and the shape is {test_features.shape}\")"
      ]
    },
    {
      "cell_type": "markdown",
      "id": "80575c37",
      "metadata": {
        "id": "80575c37"
      },
      "source": [
        "### ConvLSTM Model Architecture and Training"
      ]
    },
    {
      "cell_type": "code",
      "execution_count": 16,
      "id": "lmpu4OADtvNY",
      "metadata": {
        "id": "lmpu4OADtvNY"
      },
      "outputs": [],
      "source": [
        "from tensorflow.keras.layers import ConvLSTM2D, MaxPooling3D, Dropout, Flatten, Dense, TimeDistributed\n",
        "\n",
        "#model architecture\n",
        "def create_convlstm_model():\n",
        "\n",
        "    model = Sequential()\n",
        "\n",
        "    model.add(ConvLSTM2D(filters = 4, kernel_size = (3, 3), activation = 'tanh', data_format = \"channels_last\",\n",
        "                         recurrent_dropout=0.1, return_sequences=True, input_shape = (SEQUENCE_LENGTH,\n",
        "                                                                                      IMAGE_HEIGHT, IMAGE_WIDTH, 3)))\n",
        "\n",
        "    model.add(MaxPooling3D(pool_size=(1, 2, 2), padding='same', data_format='channels_last'))\n",
        "    model.add(TimeDistributed(Dropout(0.1)))\n",
        "\n",
        "    model.add(ConvLSTM2D(filters = 8, kernel_size = (3, 3), activation = 'tanh', data_format = \"channels_last\",\n",
        "                         recurrent_dropout=0.2, return_sequences=True))\n",
        "\n",
        "    model.add(MaxPooling3D(pool_size=(1, 2, 2), padding='same', data_format='channels_last'))\n",
        "    model.add(TimeDistributed(Dropout(0.1)))\n",
        "\n",
        "    model.add(ConvLSTM2D(filters = 14, kernel_size = (3, 3), activation = 'tanh', data_format = \"channels_last\",\n",
        "                         recurrent_dropout=0.1, return_sequences=True))\n",
        "\n",
        "    model.add(MaxPooling3D(pool_size=(1, 2, 2), padding='same', data_format='channels_last'))\n",
        "    model.add(TimeDistributed(Dropout(0.1)))\n",
        "\n",
        "    model.add(ConvLSTM2D(filters = 16, kernel_size = (3, 3), activation = 'tanh', data_format = \"channels_last\",\n",
        "                         recurrent_dropout=0.1, return_sequences=True))\n",
        "\n",
        "    model.add(MaxPooling3D(pool_size=(1, 2, 2), padding='same', data_format='channels_last'))\n",
        "\n",
        "    model.add(Flatten())\n",
        "\n",
        "    model.add(Dense(1, activation= \"sigmoid\"))\n",
        "\n",
        "    # Return the constructed convlstm model.\n",
        "    return model"
      ]
    },
    {
      "cell_type": "code",
      "execution_count": 17,
      "id": "ATVt-j0HtvKx",
      "metadata": {
        "colab": {
          "base_uri": "https://localhost:8080/",
          "height": 545
        },
        "id": "ATVt-j0HtvKx",
        "outputId": "cd99e848-c7f0-4f98-f674-4ca536db7b28"
      },
      "outputs": [
        {
          "output_type": "display_data",
          "data": {
            "text/plain": [
              "\u001b[1mModel: \"sequential\"\u001b[0m\n"
            ],
            "text/html": [
              "<pre style=\"white-space:pre;overflow-x:auto;line-height:normal;font-family:Menlo,'DejaVu Sans Mono',consolas,'Courier New',monospace\"><span style=\"font-weight: bold\">Model: \"sequential\"</span>\n",
              "</pre>\n"
            ]
          },
          "metadata": {}
        },
        {
          "output_type": "display_data",
          "data": {
            "text/plain": [
              "┏━━━━━━━━━━━━━━━━━━━━━━━━━━━━━━━━━━━━━━┳━━━━━━━━━━━━━━━━━━━━━━━━━━━━━┳━━━━━━━━━━━━━━━━━┓\n",
              "┃\u001b[1m \u001b[0m\u001b[1mLayer (type)                        \u001b[0m\u001b[1m \u001b[0m┃\u001b[1m \u001b[0m\u001b[1mOutput Shape               \u001b[0m\u001b[1m \u001b[0m┃\u001b[1m \u001b[0m\u001b[1m        Param #\u001b[0m\u001b[1m \u001b[0m┃\n",
              "┡━━━━━━━━━━━━━━━━━━━━━━━━━━━━━━━━━━━━━━╇━━━━━━━━━━━━━━━━━━━━━━━━━━━━━╇━━━━━━━━━━━━━━━━━┩\n",
              "│ conv_lstm2d (\u001b[38;5;33mConvLSTM2D\u001b[0m)             │ (\u001b[38;5;45mNone\u001b[0m, \u001b[38;5;34m20\u001b[0m, \u001b[38;5;34m62\u001b[0m, \u001b[38;5;34m62\u001b[0m, \u001b[38;5;34m4\u001b[0m)       │           \u001b[38;5;34m1,024\u001b[0m │\n",
              "├──────────────────────────────────────┼─────────────────────────────┼─────────────────┤\n",
              "│ max_pooling3d (\u001b[38;5;33mMaxPooling3D\u001b[0m)         │ (\u001b[38;5;45mNone\u001b[0m, \u001b[38;5;34m20\u001b[0m, \u001b[38;5;34m31\u001b[0m, \u001b[38;5;34m31\u001b[0m, \u001b[38;5;34m4\u001b[0m)       │               \u001b[38;5;34m0\u001b[0m │\n",
              "├──────────────────────────────────────┼─────────────────────────────┼─────────────────┤\n",
              "│ time_distributed (\u001b[38;5;33mTimeDistributed\u001b[0m)   │ (\u001b[38;5;45mNone\u001b[0m, \u001b[38;5;34m20\u001b[0m, \u001b[38;5;34m31\u001b[0m, \u001b[38;5;34m31\u001b[0m, \u001b[38;5;34m4\u001b[0m)       │               \u001b[38;5;34m0\u001b[0m │\n",
              "├──────────────────────────────────────┼─────────────────────────────┼─────────────────┤\n",
              "│ conv_lstm2d_1 (\u001b[38;5;33mConvLSTM2D\u001b[0m)           │ (\u001b[38;5;45mNone\u001b[0m, \u001b[38;5;34m20\u001b[0m, \u001b[38;5;34m29\u001b[0m, \u001b[38;5;34m29\u001b[0m, \u001b[38;5;34m8\u001b[0m)       │           \u001b[38;5;34m3,488\u001b[0m │\n",
              "├──────────────────────────────────────┼─────────────────────────────┼─────────────────┤\n",
              "│ max_pooling3d_1 (\u001b[38;5;33mMaxPooling3D\u001b[0m)       │ (\u001b[38;5;45mNone\u001b[0m, \u001b[38;5;34m20\u001b[0m, \u001b[38;5;34m15\u001b[0m, \u001b[38;5;34m15\u001b[0m, \u001b[38;5;34m8\u001b[0m)       │               \u001b[38;5;34m0\u001b[0m │\n",
              "├──────────────────────────────────────┼─────────────────────────────┼─────────────────┤\n",
              "│ time_distributed_1 (\u001b[38;5;33mTimeDistributed\u001b[0m) │ (\u001b[38;5;45mNone\u001b[0m, \u001b[38;5;34m20\u001b[0m, \u001b[38;5;34m15\u001b[0m, \u001b[38;5;34m15\u001b[0m, \u001b[38;5;34m8\u001b[0m)       │               \u001b[38;5;34m0\u001b[0m │\n",
              "├──────────────────────────────────────┼─────────────────────────────┼─────────────────┤\n",
              "│ conv_lstm2d_2 (\u001b[38;5;33mConvLSTM2D\u001b[0m)           │ (\u001b[38;5;45mNone\u001b[0m, \u001b[38;5;34m20\u001b[0m, \u001b[38;5;34m13\u001b[0m, \u001b[38;5;34m13\u001b[0m, \u001b[38;5;34m14\u001b[0m)      │          \u001b[38;5;34m11,144\u001b[0m │\n",
              "├──────────────────────────────────────┼─────────────────────────────┼─────────────────┤\n",
              "│ max_pooling3d_2 (\u001b[38;5;33mMaxPooling3D\u001b[0m)       │ (\u001b[38;5;45mNone\u001b[0m, \u001b[38;5;34m20\u001b[0m, \u001b[38;5;34m7\u001b[0m, \u001b[38;5;34m7\u001b[0m, \u001b[38;5;34m14\u001b[0m)        │               \u001b[38;5;34m0\u001b[0m │\n",
              "├──────────────────────────────────────┼─────────────────────────────┼─────────────────┤\n",
              "│ time_distributed_2 (\u001b[38;5;33mTimeDistributed\u001b[0m) │ (\u001b[38;5;45mNone\u001b[0m, \u001b[38;5;34m20\u001b[0m, \u001b[38;5;34m7\u001b[0m, \u001b[38;5;34m7\u001b[0m, \u001b[38;5;34m14\u001b[0m)        │               \u001b[38;5;34m0\u001b[0m │\n",
              "├──────────────────────────────────────┼─────────────────────────────┼─────────────────┤\n",
              "│ conv_lstm2d_3 (\u001b[38;5;33mConvLSTM2D\u001b[0m)           │ (\u001b[38;5;45mNone\u001b[0m, \u001b[38;5;34m20\u001b[0m, \u001b[38;5;34m5\u001b[0m, \u001b[38;5;34m5\u001b[0m, \u001b[38;5;34m16\u001b[0m)        │          \u001b[38;5;34m17,344\u001b[0m │\n",
              "├──────────────────────────────────────┼─────────────────────────────┼─────────────────┤\n",
              "│ max_pooling3d_3 (\u001b[38;5;33mMaxPooling3D\u001b[0m)       │ (\u001b[38;5;45mNone\u001b[0m, \u001b[38;5;34m20\u001b[0m, \u001b[38;5;34m3\u001b[0m, \u001b[38;5;34m3\u001b[0m, \u001b[38;5;34m16\u001b[0m)        │               \u001b[38;5;34m0\u001b[0m │\n",
              "├──────────────────────────────────────┼─────────────────────────────┼─────────────────┤\n",
              "│ flatten (\u001b[38;5;33mFlatten\u001b[0m)                    │ (\u001b[38;5;45mNone\u001b[0m, \u001b[38;5;34m2880\u001b[0m)                │               \u001b[38;5;34m0\u001b[0m │\n",
              "├──────────────────────────────────────┼─────────────────────────────┼─────────────────┤\n",
              "│ dense (\u001b[38;5;33mDense\u001b[0m)                        │ (\u001b[38;5;45mNone\u001b[0m, \u001b[38;5;34m1\u001b[0m)                   │           \u001b[38;5;34m2,881\u001b[0m │\n",
              "└──────────────────────────────────────┴─────────────────────────────┴─────────────────┘\n"
            ],
            "text/html": [
              "<pre style=\"white-space:pre;overflow-x:auto;line-height:normal;font-family:Menlo,'DejaVu Sans Mono',consolas,'Courier New',monospace\">┏━━━━━━━━━━━━━━━━━━━━━━━━━━━━━━━━━━━━━━┳━━━━━━━━━━━━━━━━━━━━━━━━━━━━━┳━━━━━━━━━━━━━━━━━┓\n",
              "┃<span style=\"font-weight: bold\"> Layer (type)                         </span>┃<span style=\"font-weight: bold\"> Output Shape                </span>┃<span style=\"font-weight: bold\">         Param # </span>┃\n",
              "┡━━━━━━━━━━━━━━━━━━━━━━━━━━━━━━━━━━━━━━╇━━━━━━━━━━━━━━━━━━━━━━━━━━━━━╇━━━━━━━━━━━━━━━━━┩\n",
              "│ conv_lstm2d (<span style=\"color: #0087ff; text-decoration-color: #0087ff\">ConvLSTM2D</span>)             │ (<span style=\"color: #00d7ff; text-decoration-color: #00d7ff\">None</span>, <span style=\"color: #00af00; text-decoration-color: #00af00\">20</span>, <span style=\"color: #00af00; text-decoration-color: #00af00\">62</span>, <span style=\"color: #00af00; text-decoration-color: #00af00\">62</span>, <span style=\"color: #00af00; text-decoration-color: #00af00\">4</span>)       │           <span style=\"color: #00af00; text-decoration-color: #00af00\">1,024</span> │\n",
              "├──────────────────────────────────────┼─────────────────────────────┼─────────────────┤\n",
              "│ max_pooling3d (<span style=\"color: #0087ff; text-decoration-color: #0087ff\">MaxPooling3D</span>)         │ (<span style=\"color: #00d7ff; text-decoration-color: #00d7ff\">None</span>, <span style=\"color: #00af00; text-decoration-color: #00af00\">20</span>, <span style=\"color: #00af00; text-decoration-color: #00af00\">31</span>, <span style=\"color: #00af00; text-decoration-color: #00af00\">31</span>, <span style=\"color: #00af00; text-decoration-color: #00af00\">4</span>)       │               <span style=\"color: #00af00; text-decoration-color: #00af00\">0</span> │\n",
              "├──────────────────────────────────────┼─────────────────────────────┼─────────────────┤\n",
              "│ time_distributed (<span style=\"color: #0087ff; text-decoration-color: #0087ff\">TimeDistributed</span>)   │ (<span style=\"color: #00d7ff; text-decoration-color: #00d7ff\">None</span>, <span style=\"color: #00af00; text-decoration-color: #00af00\">20</span>, <span style=\"color: #00af00; text-decoration-color: #00af00\">31</span>, <span style=\"color: #00af00; text-decoration-color: #00af00\">31</span>, <span style=\"color: #00af00; text-decoration-color: #00af00\">4</span>)       │               <span style=\"color: #00af00; text-decoration-color: #00af00\">0</span> │\n",
              "├──────────────────────────────────────┼─────────────────────────────┼─────────────────┤\n",
              "│ conv_lstm2d_1 (<span style=\"color: #0087ff; text-decoration-color: #0087ff\">ConvLSTM2D</span>)           │ (<span style=\"color: #00d7ff; text-decoration-color: #00d7ff\">None</span>, <span style=\"color: #00af00; text-decoration-color: #00af00\">20</span>, <span style=\"color: #00af00; text-decoration-color: #00af00\">29</span>, <span style=\"color: #00af00; text-decoration-color: #00af00\">29</span>, <span style=\"color: #00af00; text-decoration-color: #00af00\">8</span>)       │           <span style=\"color: #00af00; text-decoration-color: #00af00\">3,488</span> │\n",
              "├──────────────────────────────────────┼─────────────────────────────┼─────────────────┤\n",
              "│ max_pooling3d_1 (<span style=\"color: #0087ff; text-decoration-color: #0087ff\">MaxPooling3D</span>)       │ (<span style=\"color: #00d7ff; text-decoration-color: #00d7ff\">None</span>, <span style=\"color: #00af00; text-decoration-color: #00af00\">20</span>, <span style=\"color: #00af00; text-decoration-color: #00af00\">15</span>, <span style=\"color: #00af00; text-decoration-color: #00af00\">15</span>, <span style=\"color: #00af00; text-decoration-color: #00af00\">8</span>)       │               <span style=\"color: #00af00; text-decoration-color: #00af00\">0</span> │\n",
              "├──────────────────────────────────────┼─────────────────────────────┼─────────────────┤\n",
              "│ time_distributed_1 (<span style=\"color: #0087ff; text-decoration-color: #0087ff\">TimeDistributed</span>) │ (<span style=\"color: #00d7ff; text-decoration-color: #00d7ff\">None</span>, <span style=\"color: #00af00; text-decoration-color: #00af00\">20</span>, <span style=\"color: #00af00; text-decoration-color: #00af00\">15</span>, <span style=\"color: #00af00; text-decoration-color: #00af00\">15</span>, <span style=\"color: #00af00; text-decoration-color: #00af00\">8</span>)       │               <span style=\"color: #00af00; text-decoration-color: #00af00\">0</span> │\n",
              "├──────────────────────────────────────┼─────────────────────────────┼─────────────────┤\n",
              "│ conv_lstm2d_2 (<span style=\"color: #0087ff; text-decoration-color: #0087ff\">ConvLSTM2D</span>)           │ (<span style=\"color: #00d7ff; text-decoration-color: #00d7ff\">None</span>, <span style=\"color: #00af00; text-decoration-color: #00af00\">20</span>, <span style=\"color: #00af00; text-decoration-color: #00af00\">13</span>, <span style=\"color: #00af00; text-decoration-color: #00af00\">13</span>, <span style=\"color: #00af00; text-decoration-color: #00af00\">14</span>)      │          <span style=\"color: #00af00; text-decoration-color: #00af00\">11,144</span> │\n",
              "├──────────────────────────────────────┼─────────────────────────────┼─────────────────┤\n",
              "│ max_pooling3d_2 (<span style=\"color: #0087ff; text-decoration-color: #0087ff\">MaxPooling3D</span>)       │ (<span style=\"color: #00d7ff; text-decoration-color: #00d7ff\">None</span>, <span style=\"color: #00af00; text-decoration-color: #00af00\">20</span>, <span style=\"color: #00af00; text-decoration-color: #00af00\">7</span>, <span style=\"color: #00af00; text-decoration-color: #00af00\">7</span>, <span style=\"color: #00af00; text-decoration-color: #00af00\">14</span>)        │               <span style=\"color: #00af00; text-decoration-color: #00af00\">0</span> │\n",
              "├──────────────────────────────────────┼─────────────────────────────┼─────────────────┤\n",
              "│ time_distributed_2 (<span style=\"color: #0087ff; text-decoration-color: #0087ff\">TimeDistributed</span>) │ (<span style=\"color: #00d7ff; text-decoration-color: #00d7ff\">None</span>, <span style=\"color: #00af00; text-decoration-color: #00af00\">20</span>, <span style=\"color: #00af00; text-decoration-color: #00af00\">7</span>, <span style=\"color: #00af00; text-decoration-color: #00af00\">7</span>, <span style=\"color: #00af00; text-decoration-color: #00af00\">14</span>)        │               <span style=\"color: #00af00; text-decoration-color: #00af00\">0</span> │\n",
              "├──────────────────────────────────────┼─────────────────────────────┼─────────────────┤\n",
              "│ conv_lstm2d_3 (<span style=\"color: #0087ff; text-decoration-color: #0087ff\">ConvLSTM2D</span>)           │ (<span style=\"color: #00d7ff; text-decoration-color: #00d7ff\">None</span>, <span style=\"color: #00af00; text-decoration-color: #00af00\">20</span>, <span style=\"color: #00af00; text-decoration-color: #00af00\">5</span>, <span style=\"color: #00af00; text-decoration-color: #00af00\">5</span>, <span style=\"color: #00af00; text-decoration-color: #00af00\">16</span>)        │          <span style=\"color: #00af00; text-decoration-color: #00af00\">17,344</span> │\n",
              "├──────────────────────────────────────┼─────────────────────────────┼─────────────────┤\n",
              "│ max_pooling3d_3 (<span style=\"color: #0087ff; text-decoration-color: #0087ff\">MaxPooling3D</span>)       │ (<span style=\"color: #00d7ff; text-decoration-color: #00d7ff\">None</span>, <span style=\"color: #00af00; text-decoration-color: #00af00\">20</span>, <span style=\"color: #00af00; text-decoration-color: #00af00\">3</span>, <span style=\"color: #00af00; text-decoration-color: #00af00\">3</span>, <span style=\"color: #00af00; text-decoration-color: #00af00\">16</span>)        │               <span style=\"color: #00af00; text-decoration-color: #00af00\">0</span> │\n",
              "├──────────────────────────────────────┼─────────────────────────────┼─────────────────┤\n",
              "│ flatten (<span style=\"color: #0087ff; text-decoration-color: #0087ff\">Flatten</span>)                    │ (<span style=\"color: #00d7ff; text-decoration-color: #00d7ff\">None</span>, <span style=\"color: #00af00; text-decoration-color: #00af00\">2880</span>)                │               <span style=\"color: #00af00; text-decoration-color: #00af00\">0</span> │\n",
              "├──────────────────────────────────────┼─────────────────────────────┼─────────────────┤\n",
              "│ dense (<span style=\"color: #0087ff; text-decoration-color: #0087ff\">Dense</span>)                        │ (<span style=\"color: #00d7ff; text-decoration-color: #00d7ff\">None</span>, <span style=\"color: #00af00; text-decoration-color: #00af00\">1</span>)                   │           <span style=\"color: #00af00; text-decoration-color: #00af00\">2,881</span> │\n",
              "└──────────────────────────────────────┴─────────────────────────────┴─────────────────┘\n",
              "</pre>\n"
            ]
          },
          "metadata": {}
        },
        {
          "output_type": "display_data",
          "data": {
            "text/plain": [
              "\u001b[1m Total params: \u001b[0m\u001b[38;5;34m35,881\u001b[0m (140.16 KB)\n"
            ],
            "text/html": [
              "<pre style=\"white-space:pre;overflow-x:auto;line-height:normal;font-family:Menlo,'DejaVu Sans Mono',consolas,'Courier New',monospace\"><span style=\"font-weight: bold\"> Total params: </span><span style=\"color: #00af00; text-decoration-color: #00af00\">35,881</span> (140.16 KB)\n",
              "</pre>\n"
            ]
          },
          "metadata": {}
        },
        {
          "output_type": "display_data",
          "data": {
            "text/plain": [
              "\u001b[1m Trainable params: \u001b[0m\u001b[38;5;34m35,881\u001b[0m (140.16 KB)\n"
            ],
            "text/html": [
              "<pre style=\"white-space:pre;overflow-x:auto;line-height:normal;font-family:Menlo,'DejaVu Sans Mono',consolas,'Courier New',monospace\"><span style=\"font-weight: bold\"> Trainable params: </span><span style=\"color: #00af00; text-decoration-color: #00af00\">35,881</span> (140.16 KB)\n",
              "</pre>\n"
            ]
          },
          "metadata": {}
        },
        {
          "output_type": "display_data",
          "data": {
            "text/plain": [
              "\u001b[1m Non-trainable params: \u001b[0m\u001b[38;5;34m0\u001b[0m (0.00 B)\n"
            ],
            "text/html": [
              "<pre style=\"white-space:pre;overflow-x:auto;line-height:normal;font-family:Menlo,'DejaVu Sans Mono',consolas,'Courier New',monospace\"><span style=\"font-weight: bold\"> Non-trainable params: </span><span style=\"color: #00af00; text-decoration-color: #00af00\">0</span> (0.00 B)\n",
              "</pre>\n"
            ]
          },
          "metadata": {}
        }
      ],
      "source": [
        "model= create_convlstm_model()\n",
        "model.summary()"
      ]
    },
    {
      "cell_type": "code",
      "execution_count": 18,
      "id": "MBdUqHKUtvIQ",
      "metadata": {
        "id": "MBdUqHKUtvIQ"
      },
      "outputs": [],
      "source": [
        "from keras.metrics import Precision, Recall\n",
        "\n",
        "model.compile( optimizer='adam', loss='binary_crossentropy', metrics=['accuracy', Precision(), Recall()])\n"
      ]
    },
    {
      "cell_type": "code",
      "execution_count": 19,
      "id": "3ttp8CR9tvFz",
      "metadata": {
        "id": "3ttp8CR9tvFz"
      },
      "outputs": [],
      "source": [
        "# ModelCheckpoint: Save the model after every epoch.\n",
        "checkpoint = ModelCheckpoint(\n",
        "    'shoplifting.weights.h5',\n",
        "    monitor='val_loss',\n",
        "    save_best_only=True,\n",
        "    save_weights_only=True\n",
        ")"
      ]
    },
    {
      "cell_type": "code",
      "execution_count": 20,
      "id": "HvCW0tCftvDG",
      "metadata": {
        "id": "HvCW0tCftvDG"
      },
      "outputs": [],
      "source": [
        "# Set up early stopping\n",
        "early_stopping = EarlyStopping(\n",
        "    monitor='val_loss',\n",
        "    patience=7,\n",
        "    restore_best_weights=True\n",
        ")"
      ]
    },
    {
      "cell_type": "code",
      "execution_count": 21,
      "id": "gHVFjk9PtvA0",
      "metadata": {
        "id": "gHVFjk9PtvA0"
      },
      "outputs": [],
      "source": [
        "# ReduceLROnPlateau: Reduce the learning rate when the metric has stopped improving.\n",
        "reduce_lr_on_plateau = ReduceLROnPlateau(\n",
        "    monitor='val_loss',\n",
        "    factor=0.5,\n",
        "    patience=3,\n",
        "    min_lr=1e-6\n",
        ")"
      ]
    },
    {
      "cell_type": "code",
      "execution_count": 22,
      "id": "sjqdfbV9tu95",
      "metadata": {
        "colab": {
          "base_uri": "https://localhost:8080/"
        },
        "id": "sjqdfbV9tu95",
        "outputId": "edca1759-7e35-461b-e5cc-0a1271fdbd58"
      },
      "outputs": [
        {
          "output_type": "stream",
          "name": "stdout",
          "text": [
            "Epoch 1/20\n",
            "\u001b[1m150/150\u001b[0m \u001b[32m━━━━━━━━━━━━━━━━━━━━\u001b[0m\u001b[37m\u001b[0m \u001b[1m106s\u001b[0m 345ms/step - accuracy: 0.5522 - loss: 0.6941 - precision: 0.4397 - recall: 0.1644 - val_accuracy: 0.6484 - val_loss: 0.6466 - val_precision: 0.0000e+00 - val_recall: 0.0000e+00 - learning_rate: 0.0010\n",
            "Epoch 2/20\n",
            "\u001b[1m150/150\u001b[0m \u001b[32m━━━━━━━━━━━━━━━━━━━━\u001b[0m\u001b[37m\u001b[0m \u001b[1m57s\u001b[0m 50ms/step - accuracy: 0.5731 - loss: 0.6826 - precision: 0.0000e+00 - recall: 0.0000e+00 - val_accuracy: 0.6484 - val_loss: 0.6172 - val_precision: 0.0000e+00 - val_recall: 0.0000e+00 - learning_rate: 0.0010\n",
            "Epoch 3/20\n",
            "\u001b[1m150/150\u001b[0m \u001b[32m━━━━━━━━━━━━━━━━━━━━\u001b[0m\u001b[37m\u001b[0m \u001b[1m10s\u001b[0m 50ms/step - accuracy: 0.7277 - loss: 0.5491 - precision: 0.7176 - recall: 0.5081 - val_accuracy: 0.8828 - val_loss: 0.2873 - val_precision: 0.8000 - val_recall: 0.8889 - learning_rate: 0.0010\n",
            "Epoch 4/20\n",
            "\u001b[1m150/150\u001b[0m \u001b[32m━━━━━━━━━━━━━━━━━━━━\u001b[0m\u001b[37m\u001b[0m \u001b[1m10s\u001b[0m 50ms/step - accuracy: 0.8928 - loss: 0.2468 - precision: 0.8803 - recall: 0.8670 - val_accuracy: 0.9688 - val_loss: 0.0913 - val_precision: 1.0000 - val_recall: 0.9111 - learning_rate: 0.0010\n",
            "Epoch 5/20\n",
            "\u001b[1m150/150\u001b[0m \u001b[32m━━━━━━━━━━━━━━━━━━━━\u001b[0m\u001b[37m\u001b[0m \u001b[1m10s\u001b[0m 47ms/step - accuracy: 0.9344 - loss: 0.1601 - precision: 0.9121 - recall: 0.9346 - val_accuracy: 0.9688 - val_loss: 0.0671 - val_precision: 1.0000 - val_recall: 0.9111 - learning_rate: 0.0010\n",
            "Epoch 6/20\n",
            "\u001b[1m150/150\u001b[0m \u001b[32m━━━━━━━━━━━━━━━━━━━━\u001b[0m\u001b[37m\u001b[0m \u001b[1m10s\u001b[0m 46ms/step - accuracy: 0.9480 - loss: 0.1106 - precision: 0.9381 - recall: 0.9401 - val_accuracy: 0.9766 - val_loss: 0.0533 - val_precision: 1.0000 - val_recall: 0.9333 - learning_rate: 0.0010\n",
            "Epoch 7/20\n",
            "\u001b[1m150/150\u001b[0m \u001b[32m━━━━━━━━━━━━━━━━━━━━\u001b[0m\u001b[37m\u001b[0m \u001b[1m7s\u001b[0m 47ms/step - accuracy: 0.9548 - loss: 0.1194 - precision: 0.9381 - recall: 0.9564 - val_accuracy: 0.9609 - val_loss: 0.0616 - val_precision: 1.0000 - val_recall: 0.8889 - learning_rate: 0.0010\n",
            "Epoch 8/20\n",
            "\u001b[1m150/150\u001b[0m \u001b[32m━━━━━━━━━━━━━━━━━━━━\u001b[0m\u001b[37m\u001b[0m \u001b[1m7s\u001b[0m 45ms/step - accuracy: 0.9607 - loss: 0.0841 - precision: 0.9583 - recall: 0.9489 - val_accuracy: 0.9609 - val_loss: 0.0682 - val_precision: 0.9348 - val_recall: 0.9556 - learning_rate: 0.0010\n",
            "Epoch 9/20\n",
            "\u001b[1m150/150\u001b[0m \u001b[32m━━━━━━━━━━━━━━━━━━━━\u001b[0m\u001b[37m\u001b[0m \u001b[1m7s\u001b[0m 48ms/step - accuracy: 0.9729 - loss: 0.0765 - precision: 0.9640 - recall: 0.9725 - val_accuracy: 0.9922 - val_loss: 0.0328 - val_precision: 1.0000 - val_recall: 0.9778 - learning_rate: 0.0010\n",
            "Epoch 10/20\n",
            "\u001b[1m150/150\u001b[0m \u001b[32m━━━━━━━━━━━━━━━━━━━━\u001b[0m\u001b[37m\u001b[0m \u001b[1m7s\u001b[0m 45ms/step - accuracy: 0.9803 - loss: 0.0504 - precision: 0.9711 - recall: 0.9825 - val_accuracy: 0.9688 - val_loss: 0.0537 - val_precision: 1.0000 - val_recall: 0.9111 - learning_rate: 0.0010\n",
            "Epoch 11/20\n",
            "\u001b[1m150/150\u001b[0m \u001b[32m━━━━━━━━━━━━━━━━━━━━\u001b[0m\u001b[37m\u001b[0m \u001b[1m10s\u001b[0m 45ms/step - accuracy: 0.9744 - loss: 0.0498 - precision: 0.9787 - recall: 0.9615 - val_accuracy: 0.9922 - val_loss: 0.0134 - val_precision: 0.9783 - val_recall: 1.0000 - learning_rate: 0.0010\n",
            "Epoch 12/20\n",
            "\u001b[1m150/150\u001b[0m \u001b[32m━━━━━━━━━━━━━━━━━━━━\u001b[0m\u001b[37m\u001b[0m \u001b[1m11s\u001b[0m 48ms/step - accuracy: 0.9888 - loss: 0.0307 - precision: 0.9887 - recall: 0.9846 - val_accuracy: 0.9844 - val_loss: 0.0384 - val_precision: 1.0000 - val_recall: 0.9556 - learning_rate: 0.0010\n",
            "Epoch 13/20\n",
            "\u001b[1m150/150\u001b[0m \u001b[32m━━━━━━━━━━━━━━━━━━━━\u001b[0m\u001b[37m\u001b[0m \u001b[1m10s\u001b[0m 49ms/step - accuracy: 0.9750 - loss: 0.0633 - precision: 0.9756 - recall: 0.9660 - val_accuracy: 0.9922 - val_loss: 0.0119 - val_precision: 0.9783 - val_recall: 1.0000 - learning_rate: 0.0010\n",
            "Epoch 14/20\n",
            "\u001b[1m150/150\u001b[0m \u001b[32m━━━━━━━━━━━━━━━━━━━━\u001b[0m\u001b[37m\u001b[0m \u001b[1m10s\u001b[0m 50ms/step - accuracy: 0.9898 - loss: 0.0289 - precision: 0.9823 - recall: 0.9935 - val_accuracy: 0.9922 - val_loss: 0.0174 - val_precision: 0.9783 - val_recall: 1.0000 - learning_rate: 0.0010\n",
            "Epoch 15/20\n",
            "\u001b[1m150/150\u001b[0m \u001b[32m━━━━━━━━━━━━━━━━━━━━\u001b[0m\u001b[37m\u001b[0m \u001b[1m7s\u001b[0m 46ms/step - accuracy: 0.9938 - loss: 0.0275 - precision: 0.9918 - recall: 0.9931 - val_accuracy: 0.9922 - val_loss: 0.0170 - val_precision: 1.0000 - val_recall: 0.9778 - learning_rate: 0.0010\n",
            "Epoch 16/20\n",
            "\u001b[1m150/150\u001b[0m \u001b[32m━━━━━━━━━━━━━━━━━━━━\u001b[0m\u001b[37m\u001b[0m \u001b[1m11s\u001b[0m 49ms/step - accuracy: 0.9825 - loss: 0.0382 - precision: 0.9774 - recall: 0.9815 - val_accuracy: 0.9922 - val_loss: 0.0156 - val_precision: 1.0000 - val_recall: 0.9778 - learning_rate: 0.0010\n",
            "Epoch 17/20\n",
            "\u001b[1m150/150\u001b[0m \u001b[32m━━━━━━━━━━━━━━━━━━━━\u001b[0m\u001b[37m\u001b[0m \u001b[1m10s\u001b[0m 48ms/step - accuracy: 0.9912 - loss: 0.0208 - precision: 0.9878 - recall: 0.9915 - val_accuracy: 0.9922 - val_loss: 0.0136 - val_precision: 1.0000 - val_recall: 0.9778 - learning_rate: 5.0000e-04\n",
            "Epoch 18/20\n",
            "\u001b[1m150/150\u001b[0m \u001b[32m━━━━━━━━━━━━━━━━━━━━\u001b[0m\u001b[37m\u001b[0m \u001b[1m7s\u001b[0m 45ms/step - accuracy: 0.9933 - loss: 0.0157 - precision: 0.9988 - recall: 0.9856 - val_accuracy: 0.9922 - val_loss: 0.0090 - val_precision: 1.0000 - val_recall: 0.9778 - learning_rate: 5.0000e-04\n",
            "Epoch 19/20\n",
            "\u001b[1m150/150\u001b[0m \u001b[32m━━━━━━━━━━━━━━━━━━━━\u001b[0m\u001b[37m\u001b[0m \u001b[1m10s\u001b[0m 45ms/step - accuracy: 0.9968 - loss: 0.0084 - precision: 0.9950 - recall: 0.9973 - val_accuracy: 1.0000 - val_loss: 0.0022 - val_precision: 1.0000 - val_recall: 1.0000 - learning_rate: 5.0000e-04\n",
            "Epoch 20/20\n",
            "\u001b[1m150/150\u001b[0m \u001b[32m━━━━━━━━━━━━━━━━━━━━\u001b[0m\u001b[37m\u001b[0m \u001b[1m11s\u001b[0m 47ms/step - accuracy: 0.9946 - loss: 0.0091 - precision: 0.9967 - recall: 0.9907 - val_accuracy: 1.0000 - val_loss: 0.0037 - val_precision: 1.0000 - val_recall: 1.0000 - learning_rate: 5.0000e-04\n"
          ]
        }
      ],
      "source": [
        "history = model.fit(\n",
        "    x=train_features, y=train_labels, epochs=20, batch_size= 4, validation_data=(val_features, val_labels),\n",
        "    callbacks=[checkpoint, early_stopping, reduce_lr_on_plateau]\n",
        ")"
      ]
    },
    {
      "cell_type": "code",
      "execution_count": 23,
      "id": "lNYwqeEkJ5I9",
      "metadata": {
        "colab": {
          "base_uri": "https://localhost:8080/"
        },
        "id": "lNYwqeEkJ5I9",
        "outputId": "70ffcba6-fb2c-4543-f04f-7ecdd6b42753"
      },
      "outputs": [
        {
          "output_type": "stream",
          "name": "stdout",
          "text": [
            "\u001b[1m4/4\u001b[0m \u001b[32m━━━━━━━━━━━━━━━━━━━━\u001b[0m\u001b[37m\u001b[0m \u001b[1m4s\u001b[0m 57ms/step - accuracy: 1.0000 - loss: 0.0038 - precision: 1.0000 - recall: 1.0000\n",
            "Validation Loss: 0.0022252697963267565\n",
            "Validation Accuracy: 1.0\n",
            "Validation Precision: 1.0\n",
            "Validation Recall: 1.0\n"
          ]
        }
      ],
      "source": [
        "val_loss, val_accuracy, val_precision, val_recall = model.evaluate(val_features, val_labels)\n",
        "\n",
        "print('Validation Loss:', val_loss)\n",
        "print('Validation Accuracy:', val_accuracy)\n",
        "print('Validation Precision:', val_precision)\n",
        "print('Validation Recall:', val_recall)\n"
      ]
    },
    {
      "cell_type": "code",
      "execution_count": 24,
      "id": "DO-On4V4OruA",
      "metadata": {
        "colab": {
          "base_uri": "https://localhost:8080/",
          "height": 1000
        },
        "id": "DO-On4V4OruA",
        "outputId": "0904af47-304a-4951-e74c-7d92f55e3a29"
      },
      "outputs": [
        {
          "output_type": "display_data",
          "data": {
            "text/plain": [
              "<Figure size 1000x500 with 1 Axes>"
            ],
            "image/png": "[encoded data removed]"
          },
          "metadata": {}
        },
        {
          "output_type": "display_data",
          "data": {
            "text/plain": [
              "<Figure size 1000x500 with 1 Axes>"
            ],
            "image/png": "[encoded data removed]"
          },
          "metadata": {}
        },
        {
          "output_type": "display_data",
          "data": {
            "text/plain": [
              "<Figure size 1000x500 with 1 Axes>"
            ],
            "image/png": "[encoded data removed]"
          },
          "metadata": {}
        },
        {
          "output_type": "display_data",
          "data": {
            "text/plain": [
              "<Figure size 1000x500 with 1 Axes>"
            ],
            "image/png": "[encoded data removed]"
          },
          "metadata": {}
        }
      ],
      "source": [
        "# Function to plot accuracy, loss, precision, and recall\n",
        "def plot_metrics(acc, val_acc, loss, val_loss, precision, val_precision, recall, val_recall, epochs):\n",
        "    plt.figure(figsize=(10, 5))\n",
        "    plt.plot(epochs, acc, 'r', label='Training Accuracy')\n",
        "    plt.plot(epochs, val_acc, 'g', label='Validation Accuracy')\n",
        "    plt.title('Training and Validation Accuracy')\n",
        "    plt.xlabel('Epochs')\n",
        "    plt.ylabel('Accuracy')\n",
        "    plt.legend(loc=0)\n",
        "    plt.show()\n",
        "\n",
        "    plt.figure(figsize=(10, 5))\n",
        "    plt.plot(epochs, loss, 'b', label='Training Loss')\n",
        "    plt.plot(epochs, val_loss, 'y', label='Validation Loss')\n",
        "    plt.title('Training and Validation Loss')\n",
        "    plt.xlabel('Epochs')\n",
        "    plt.ylabel('Loss')\n",
        "    plt.legend(loc=0)\n",
        "    plt.show()\n",
        "\n",
        "    plt.figure(figsize=(10, 5))\n",
        "    plt.plot(epochs, precision, 'c', label='Training Precision')\n",
        "    plt.plot(epochs, val_precision, 'm', label='Validation Precision')\n",
        "    plt.title('Training and Validation Precision')\n",
        "    plt.xlabel('Epochs')\n",
        "    plt.ylabel('Precision')\n",
        "    plt.legend(loc=0)\n",
        "    plt.show()\n",
        "\n",
        "    plt.figure(figsize=(10, 5))\n",
        "    plt.plot(epochs, recall, 'brown', label='Training Recall')\n",
        "    plt.plot(epochs, val_recall, 'purple', label='Validation Recall')\n",
        "    plt.title('Training and Validation Recall')\n",
        "    plt.xlabel('Epochs')\n",
        "    plt.ylabel('Recall')\n",
        "    plt.legend(loc=0)\n",
        "    plt.show()\n",
        "\n",
        "\n",
        "# Extracting history values\n",
        "model_history = history.history\n",
        "\n",
        "acc = model_history['accuracy']\n",
        "val_acc = model_history['val_accuracy']\n",
        "loss = model_history['loss']\n",
        "val_loss = model_history['val_loss']\n",
        "precision = model_history['precision']\n",
        "val_precision = model_history['val_precision']\n",
        "recall = model_history['recall']\n",
        "val_recall = model_history['val_recall']\n",
        "\n",
        "epochs = history.epoch\n",
        "\n",
        "# Call the updated function\n",
        "plot_metrics(acc, val_acc, loss, val_loss, precision, val_precision, recall, val_recall, epochs)\n"
      ]
    },
    {
      "cell_type": "code",
      "execution_count": 25,
      "id": "s66WpdIGPPHi",
      "metadata": {
        "colab": {
          "base_uri": "https://localhost:8080/"
        },
        "id": "s66WpdIGPPHi",
        "outputId": "8d383906-337d-40b2-f6ed-5de34d676bc6"
      },
      "outputs": [
        {
          "output_type": "stream",
          "name": "stderr",
          "text": [
            "WARNING:absl:You are saving your model as an HDF5 file via `model.save()` or `keras.saving.save_model(model)`. This file format is considered legacy. We recommend using instead the native Keras format, e.g. `model.save('my_model.keras')` or `keras.saving.save_model(model, 'my_model.keras')`. \n"
          ]
        }
      ],
      "source": [
        "model.save('convLSTM_shoplifting_model.h5')"
      ]
    },
    {
      "cell_type": "markdown",
      "id": "35cfd881",
      "metadata": {
        "id": "35cfd881"
      },
      "source": [
        "### Model Evaluation"
      ]
    },
    {
      "cell_type": "code",
      "execution_count": 26,
      "id": "FblOeGrNQCJ9",
      "metadata": {
        "id": "FblOeGrNQCJ9"
      },
      "outputs": [],
      "source": [
        "#load model\n",
        "from tensorflow.keras.models import load_model\n",
        "model = load_model('convLSTM_shoplifting_model.h5', compile= False)\n"
      ]
    },
    {
      "cell_type": "code",
      "execution_count": 27,
      "id": "ak6Uy5NnQyDh",
      "metadata": {
        "colab": {
          "base_uri": "https://localhost:8080/",
          "height": 775
        },
        "id": "ak6Uy5NnQyDh",
        "outputId": "eb963585-231c-4782-bbb2-f9888d7e79cb"
      },
      "outputs": [
        {
          "output_type": "stream",
          "name": "stderr",
          "text": [
            "WARNING:absl:Compiled the loaded model, but the compiled metrics have yet to be built. `model.compile_metrics` will be empty until you train or evaluate the model.\n"
          ]
        },
        {
          "output_type": "stream",
          "name": "stdout",
          "text": [
            "\u001b[1m5/5\u001b[0m \u001b[32m━━━━━━━━━━━━━━━━━━━━\u001b[0m\u001b[37m\u001b[0m \u001b[1m7s\u001b[0m 907ms/step\n"
          ]
        },
        {
          "output_type": "display_data",
          "data": {
            "text/plain": [
              "<Figure size 800x600 with 2 Axes>"
            ],
            "image/png": "[encoded data removed]"
          },
          "metadata": {}
        },
        {
          "output_type": "stream",
          "name": "stdout",
          "text": [
            "                  precision    recall  f1-score   support\n",
            "\n",
            "non shop lifters       1.00      1.00      1.00        85\n",
            "    shop lifters       1.00      1.00      1.00        44\n",
            "\n",
            "        accuracy                           1.00       129\n",
            "       macro avg       1.00      1.00      1.00       129\n",
            "    weighted avg       1.00      1.00      1.00       129\n",
            "\n"
          ]
        }
      ],
      "source": [
        "import seaborn as sns\n",
        "from sklearn.metrics import confusion_matrix, classification_report\n",
        "import matplotlib.pyplot as plt\n",
        "import numpy as np\n",
        "from tensorflow.keras.models import load_model\n",
        "\n",
        "# Load the model\n",
        "model = load_model('convLSTM_shoplifting_model.h5')\n",
        "\n",
        "# Get true labels and predictions\n",
        "y_pred_probs = model.predict(test_features)  # Get predicted probabilities\n",
        "y_pred = (y_pred_probs > 0.5).astype(int)  # Threshold at 0.5 for binary classification\n",
        "y_true = test_labels  # True labels\n",
        "\n",
        "# Compute confusion matrix\n",
        "conf_matrix = confusion_matrix(y_true, y_pred)\n",
        "\n",
        "class_names = [\"non shop lifters\", \"shop lifters\"]\n",
        "\n",
        "# Plot confusion matrix\n",
        "plt.figure(figsize=(8, 6))\n",
        "sns.heatmap(conf_matrix, annot=True, fmt=\"d\", cmap=\"Blues\",\n",
        "            xticklabels=class_names, yticklabels=class_names)\n",
        "plt.xlabel(\"Predicted Label\")\n",
        "plt.ylabel(\"True Label\")\n",
        "plt.title(\"Confusion Matrix\")\n",
        "plt.show()\n",
        "\n",
        "# Print classification report\n",
        "print(classification_report(y_true, y_pred, target_names=class_names))\n"
      ]
    }
  ],
  "metadata": {
    "accelerator": "GPU",
    "colab": {
      "gpuType": "T4",
      "provenance": []
    },
    "kernelspec": {
      "display_name": "Python 3",
      "name": "python3"
    },
    "language_info": {
      "codemirror_mode": {
        "name": "ipython",
        "version": 3
      },
      "file_extension": ".py",
      "mimetype": "text/x-python",
      "name": "python",
      "nbconvert_exporter": "python",
      "pygments_lexer": "ipython3",
      "version": "3.10.7"
    }
  },
  "nbformat": 4,
  "nbformat_minor": 5
}